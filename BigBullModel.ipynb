{
  "nbformat": 4,
  "nbformat_minor": 0,
  "metadata": {
    "colab": {
      "provenance": [],
      "authorship_tag": "ABX9TyNK84/Dt9j4UL6dCbfIjSSv",
      "include_colab_link": true
    },
    "kernelspec": {
      "name": "python3",
      "display_name": "Python 3"
    },
    "language_info": {
      "name": "python"
    }
  },
  "cells": [
    {
      "cell_type": "markdown",
      "metadata": {
        "id": "view-in-github",
        "colab_type": "text"
      },
      "source": [
        "<a href=\"https://colab.research.google.com/github/abhibrat/Retrieval-Augmented-Generation/blob/main/BigBullModel.ipynb\" target=\"_parent\"><img src=\"https://colab.research.google.com/assets/colab-badge.svg\" alt=\"Open In Colab\"/></a>"
      ]
    },
    {
      "cell_type": "code",
      "source": [
        "from IPython.display import HTML, display\n",
        "\n",
        "def set_css():\n",
        "  display(HTML('''\n",
        "  <style>\n",
        "    pre {\n",
        "        white-space: pre-wrap;\n",
        "    }\n",
        "  </style>\n",
        "  '''))\n",
        "get_ipython().events.register('pre_run_cell', set_css)"
      ],
      "metadata": {
        "id": "spMg1pqrCVTN"
      },
      "execution_count": null,
      "outputs": []
    },
    {
      "cell_type": "code",
      "execution_count": null,
      "metadata": {
        "id": "z4jDckilUDRz",
        "colab": {
          "base_uri": "https://localhost:8080/",
          "height": 1000
        },
        "outputId": "6ae17cd1-36b1-40fe-e7a9-09adb5ada345"
      },
      "outputs": [
        {
          "output_type": "display_data",
          "data": {
            "text/plain": [
              "<IPython.core.display.HTML object>"
            ],
            "text/html": [
              "\n",
              "  <style>\n",
              "    pre {\n",
              "        white-space: pre-wrap;\n",
              "    }\n",
              "  </style>\n",
              "  "
            ]
          },
          "metadata": {}
        },
        {
          "output_type": "stream",
          "name": "stdout",
          "text": [
            "Requirement already satisfied: pymilvus in /usr/local/lib/python3.10/dist-packages (2.3.5)\n",
            "Requirement already satisfied: langchain in /usr/local/lib/python3.10/dist-packages (0.1.1)\n",
            "Requirement already satisfied: openai in /usr/local/lib/python3.10/dist-packages (1.8.0)\n",
            "Requirement already satisfied: tiktoken in /usr/local/lib/python3.10/dist-packages (0.5.2)\n",
            "Requirement already satisfied: pypdf in /usr/local/lib/python3.10/dist-packages (4.0.0)\n",
            "Requirement already satisfied: langchain-openai in /usr/local/lib/python3.10/dist-packages (0.0.3)\n",
            "Requirement already satisfied: grpcio<=1.58.0,>=1.49.1 in /usr/local/lib/python3.10/dist-packages (from pymilvus) (1.58.0)\n",
            "Requirement already satisfied: protobuf>=3.20.0 in /usr/local/lib/python3.10/dist-packages (from pymilvus) (3.20.3)\n",
            "Requirement already satisfied: environs<=9.5.0 in /usr/local/lib/python3.10/dist-packages (from pymilvus) (9.5.0)\n",
            "Requirement already satisfied: ujson>=2.0.0 in /usr/local/lib/python3.10/dist-packages (from pymilvus) (5.9.0)\n",
            "Requirement already satisfied: pandas>=1.2.4 in /usr/local/lib/python3.10/dist-packages (from pymilvus) (1.5.3)\n",
            "Requirement already satisfied: requests in /usr/local/lib/python3.10/dist-packages (from pymilvus) (2.31.0)\n",
            "Requirement already satisfied: minio>=7.0.0 in /usr/local/lib/python3.10/dist-packages (from pymilvus) (7.2.3)\n",
            "Requirement already satisfied: pyarrow>=12.0.0 in /usr/local/lib/python3.10/dist-packages (from pymilvus) (14.0.2)\n",
            "Requirement already satisfied: PyYAML>=5.3 in /usr/local/lib/python3.10/dist-packages (from langchain) (6.0.1)\n",
            "Requirement already satisfied: SQLAlchemy<3,>=1.4 in /usr/local/lib/python3.10/dist-packages (from langchain) (2.0.24)\n",
            "Requirement already satisfied: aiohttp<4.0.0,>=3.8.3 in /usr/local/lib/python3.10/dist-packages (from langchain) (3.9.1)\n",
            "Requirement already satisfied: async-timeout<5.0.0,>=4.0.0 in /usr/local/lib/python3.10/dist-packages (from langchain) (4.0.3)\n",
            "Requirement already satisfied: dataclasses-json<0.7,>=0.5.7 in /usr/local/lib/python3.10/dist-packages (from langchain) (0.6.3)\n",
            "Requirement already satisfied: jsonpatch<2.0,>=1.33 in /usr/local/lib/python3.10/dist-packages (from langchain) (1.33)\n",
            "Requirement already satisfied: langchain-community<0.1,>=0.0.13 in /usr/local/lib/python3.10/dist-packages (from langchain) (0.0.13)\n",
            "Requirement already satisfied: langchain-core<0.2,>=0.1.9 in /usr/local/lib/python3.10/dist-packages (from langchain) (0.1.13)\n",
            "Requirement already satisfied: langsmith<0.1.0,>=0.0.77 in /usr/local/lib/python3.10/dist-packages (from langchain) (0.0.83)\n",
            "Requirement already satisfied: numpy<2,>=1 in /usr/local/lib/python3.10/dist-packages (from langchain) (1.23.5)\n",
            "Requirement already satisfied: pydantic<3,>=1 in /usr/local/lib/python3.10/dist-packages (from langchain) (1.10.13)\n",
            "Requirement already satisfied: tenacity<9.0.0,>=8.1.0 in /usr/local/lib/python3.10/dist-packages (from langchain) (8.2.3)\n",
            "Requirement already satisfied: anyio<5,>=3.5.0 in /usr/local/lib/python3.10/dist-packages (from openai) (3.7.1)\n",
            "Requirement already satisfied: distro<2,>=1.7.0 in /usr/lib/python3/dist-packages (from openai) (1.7.0)\n",
            "Requirement already satisfied: httpx<1,>=0.23.0 in /usr/local/lib/python3.10/dist-packages (from openai) (0.26.0)\n",
            "Requirement already satisfied: sniffio in /usr/local/lib/python3.10/dist-packages (from openai) (1.3.0)\n",
            "Requirement already satisfied: tqdm>4 in /usr/local/lib/python3.10/dist-packages (from openai) (4.66.1)\n",
            "Requirement already satisfied: typing-extensions<5,>=4.7 in /usr/local/lib/python3.10/dist-packages (from openai) (4.9.0)\n",
            "Requirement already satisfied: regex>=2022.1.18 in /usr/local/lib/python3.10/dist-packages (from tiktoken) (2023.6.3)\n",
            "Requirement already satisfied: attrs>=17.3.0 in /usr/local/lib/python3.10/dist-packages (from aiohttp<4.0.0,>=3.8.3->langchain) (23.2.0)\n",
            "Requirement already satisfied: multidict<7.0,>=4.5 in /usr/local/lib/python3.10/dist-packages (from aiohttp<4.0.0,>=3.8.3->langchain) (6.0.4)\n",
            "Requirement already satisfied: yarl<2.0,>=1.0 in /usr/local/lib/python3.10/dist-packages (from aiohttp<4.0.0,>=3.8.3->langchain) (1.9.4)\n",
            "Requirement already satisfied: frozenlist>=1.1.1 in /usr/local/lib/python3.10/dist-packages (from aiohttp<4.0.0,>=3.8.3->langchain) (1.4.1)\n",
            "Requirement already satisfied: aiosignal>=1.1.2 in /usr/local/lib/python3.10/dist-packages (from aiohttp<4.0.0,>=3.8.3->langchain) (1.3.1)\n",
            "Requirement already satisfied: idna>=2.8 in /usr/local/lib/python3.10/dist-packages (from anyio<5,>=3.5.0->openai) (3.6)\n",
            "Requirement already satisfied: exceptiongroup in /usr/local/lib/python3.10/dist-packages (from anyio<5,>=3.5.0->openai) (1.2.0)\n",
            "Requirement already satisfied: marshmallow<4.0.0,>=3.18.0 in /usr/local/lib/python3.10/dist-packages (from dataclasses-json<0.7,>=0.5.7->langchain) (3.20.2)\n",
            "Requirement already satisfied: typing-inspect<1,>=0.4.0 in /usr/local/lib/python3.10/dist-packages (from dataclasses-json<0.7,>=0.5.7->langchain) (0.9.0)\n",
            "Requirement already satisfied: python-dotenv in /usr/local/lib/python3.10/dist-packages (from environs<=9.5.0->pymilvus) (1.0.0)\n",
            "Requirement already satisfied: certifi in /usr/local/lib/python3.10/dist-packages (from httpx<1,>=0.23.0->openai) (2023.11.17)\n",
            "Requirement already satisfied: httpcore==1.* in /usr/local/lib/python3.10/dist-packages (from httpx<1,>=0.23.0->openai) (1.0.2)\n",
            "Requirement already satisfied: h11<0.15,>=0.13 in /usr/local/lib/python3.10/dist-packages (from httpcore==1.*->httpx<1,>=0.23.0->openai) (0.14.0)\n",
            "Requirement already satisfied: jsonpointer>=1.9 in /usr/local/lib/python3.10/dist-packages (from jsonpatch<2.0,>=1.33->langchain) (2.4)\n",
            "Requirement already satisfied: packaging<24.0,>=23.2 in /usr/local/lib/python3.10/dist-packages (from langchain-core<0.2,>=0.1.9->langchain) (23.2)\n",
            "Requirement already satisfied: urllib3 in /usr/local/lib/python3.10/dist-packages (from minio>=7.0.0->pymilvus) (2.0.7)\n",
            "Requirement already satisfied: argon2-cffi in /usr/local/lib/python3.10/dist-packages (from minio>=7.0.0->pymilvus) (23.1.0)\n",
            "Requirement already satisfied: pycryptodome in /usr/local/lib/python3.10/dist-packages (from minio>=7.0.0->pymilvus) (3.20.0)\n",
            "Requirement already satisfied: python-dateutil>=2.8.1 in /usr/local/lib/python3.10/dist-packages (from pandas>=1.2.4->pymilvus) (2.8.2)\n",
            "Requirement already satisfied: pytz>=2020.1 in /usr/local/lib/python3.10/dist-packages (from pandas>=1.2.4->pymilvus) (2023.3.post1)\n",
            "Requirement already satisfied: charset-normalizer<4,>=2 in /usr/local/lib/python3.10/dist-packages (from requests->pymilvus) (3.3.2)\n",
            "Requirement already satisfied: greenlet!=0.4.17 in /usr/local/lib/python3.10/dist-packages (from SQLAlchemy<3,>=1.4->langchain) (3.0.3)\n",
            "Requirement already satisfied: six>=1.5 in /usr/local/lib/python3.10/dist-packages (from python-dateutil>=2.8.1->pandas>=1.2.4->pymilvus) (1.16.0)\n",
            "Requirement already satisfied: mypy-extensions>=0.3.0 in /usr/local/lib/python3.10/dist-packages (from typing-inspect<1,>=0.4.0->dataclasses-json<0.7,>=0.5.7->langchain) (1.0.0)\n",
            "Requirement already satisfied: argon2-cffi-bindings in /usr/local/lib/python3.10/dist-packages (from argon2-cffi->minio>=7.0.0->pymilvus) (21.2.0)\n",
            "Requirement already satisfied: cffi>=1.0.1 in /usr/local/lib/python3.10/dist-packages (from argon2-cffi-bindings->argon2-cffi->minio>=7.0.0->pymilvus) (1.16.0)\n",
            "Requirement already satisfied: pycparser in /usr/local/lib/python3.10/dist-packages (from cffi>=1.0.1->argon2-cffi-bindings->argon2-cffi->minio>=7.0.0->pymilvus) (2.21)\n"
          ]
        }
      ],
      "source": [
        "!pip install --upgrade pymilvus langchain openai tiktoken pypdf langchain-openai\n"
      ]
    },
    {
      "cell_type": "code",
      "source": [
        "# from langchain.embeddings.openai import OpenAIEmbeddings\n",
        "from langchain_openai import OpenAIEmbeddings\n",
        "from langchain.vectorstores.zilliz import Zilliz\n",
        "from langchain.document_loaders import WebBaseLoader\n",
        "from langchain.text_splitter import RecursiveCharacterTextSplitter\n",
        "from langchain.chat_models import ChatOpenAI\n",
        "from langchain.schema.runnable import RunnablePassthrough\n",
        "from langchain.prompts import PromptTemplate\n",
        "from google.colab import userdata\n",
        "\n",
        "import os\n",
        "import textwrap\n",
        "\n",
        "# 1. Set up the name of the collection to be created.\n",
        "COLLECTION_NAME = 'BigBull'\n",
        "\n",
        "# 2. Set up the dimension of the embeddings.\n",
        "DIMENSION = 1536\n",
        "\n",
        "# 3. Set up the cohere api key\n",
        "OPENAI_API_KEY = userdata.get('openai_api_key')\n",
        "os.environ[\"OPENAI_API_KEY\"] = OPENAI_API_KEY\n",
        "\n",
        "# 4. Set up the connection parameters for your Zilliz Cloud cluster.\n",
        "URI = 'https://in03-a26a5bfdf5dee2c.api.gcp-us-west1.zillizcloud.com'\n",
        "\n",
        "# 5. Set up the token for your Zilliz Cloud cluster.\n",
        "# You can either use an API key or a set of cluster username and password joined by a colon.\n",
        "TOKEN = userdata.get('zilliz_token')\n",
        "\n",
        "wrapper = textwrap.TextWrapper(width=150,\n",
        "    initial_indent=\" \" * 4,\n",
        "    subsequent_indent=\" \" * 4,\n",
        "    break_long_words=False,\n",
        "    break_on_hyphens=False)\n",
        "\n",
        "# print(wrapper.fill(string))"
      ],
      "metadata": {
        "id": "z1-rAPB0Ulov",
        "colab": {
          "base_uri": "https://localhost:8080/",
          "height": 17
        },
        "outputId": "e05bf70c-b265-4eb8-8c0e-8702aefb9e90"
      },
      "execution_count": null,
      "outputs": [
        {
          "output_type": "display_data",
          "data": {
            "text/plain": [
              "<IPython.core.display.HTML object>"
            ],
            "text/html": [
              "\n",
              "  <style>\n",
              "    pre {\n",
              "        white-space: pre-wrap;\n",
              "    }\n",
              "  </style>\n",
              "  "
            ]
          },
          "metadata": {}
        }
      ]
    },
    {
      "cell_type": "code",
      "source": [
        "from langchain.schema.document import Document\n",
        "\n",
        "# all_splits =  [Document(page_content=\"I am Abhi\", metadata={\"source\": \"local\",\"title\":\"Identification\",\"language\":\"en\"})]\n",
        "\n",
        "# loader = WebBaseLoader([\n",
        "#     'https://github.com/donnemartin/system-design-primer'\n",
        "\n",
        "# ])\n",
        "\n",
        "# docs = loader.load()\n",
        "\n",
        "# from bs4 import BeautifulSoup as Soup\n",
        "\n",
        "# from langchain_community.document_loaders.recursive_url_loader import RecursiveUrlLoader\n",
        "\n",
        "\n",
        "# url = \"https://raw.githubusercontent.com/donnemartin/system-design-primer/master/README.md\"\n",
        "# loader = RecursiveUrlLoader(\n",
        "#     url=url, max_depth=6, extractor=lambda x: Soup(x, \"html.parser\").text\n",
        "# )\n",
        "# docs = loader.load()\n",
        "\n",
        "# docs = [Document(page_content=docs[0].page_content, metadata={\"source\": \"local\",\"title\":\"System Design\",\"language\":\"en\"})]\n",
        "\n",
        "\n"
      ],
      "metadata": {
        "id": "DE974St8VBQD"
      },
      "execution_count": null,
      "outputs": []
    },
    {
      "cell_type": "code",
      "source": [
        "from langchain_community.document_loaders import PyPDFLoader\n",
        "\n",
        "loader = PyPDFLoader(\"http://www.bseindia.com/xml-data/corpfiling/AttachHis/d0467d0f-3fee-4fe4-bbb1-eaaa5b48a2e9.pdf\")\n",
        "\n",
        "docs=[]\n",
        "for doc in loader.load():\n",
        "  docs.append(doc)\n",
        "print(len(docs))\n",
        "print(docs)"
      ],
      "metadata": {
        "colab": {
          "base_uri": "https://localhost:8080/",
          "height": 399
        },
        "id": "H0DAJuBAWB62",
        "outputId": "5a7e05c9-86df-4d59-a341-f06335702393"
      },
      "execution_count": null,
      "outputs": [
        {
          "output_type": "error",
          "ename": "ValueError",
          "evalue": "Check the url of your file; returned status code 404",
          "traceback": [
            "\u001b[0;31m---------------------------------------------------------------------------\u001b[0m",
            "\u001b[0;31mValueError\u001b[0m                                Traceback (most recent call last)",
            "\u001b[0;32m<ipython-input-4-f1befba1a70a>\u001b[0m in \u001b[0;36m<cell line: 3>\u001b[0;34m()\u001b[0m\n\u001b[1;32m      1\u001b[0m \u001b[0;32mfrom\u001b[0m \u001b[0mlangchain_community\u001b[0m\u001b[0;34m.\u001b[0m\u001b[0mdocument_loaders\u001b[0m \u001b[0;32mimport\u001b[0m \u001b[0mPyPDFLoader\u001b[0m\u001b[0;34m\u001b[0m\u001b[0;34m\u001b[0m\u001b[0m\n\u001b[1;32m      2\u001b[0m \u001b[0;34m\u001b[0m\u001b[0m\n\u001b[0;32m----> 3\u001b[0;31m \u001b[0mloader\u001b[0m \u001b[0;34m=\u001b[0m \u001b[0mPyPDFLoader\u001b[0m\u001b[0;34m(\u001b[0m\u001b[0;34m\"http://www.bseindia.com/xml-data/corpfiling/AttachHis/d0467d0f-3fee-4fe4-bbb1-eaaa5b48a2e9.pdf\"\u001b[0m\u001b[0;34m)\u001b[0m\u001b[0;34m\u001b[0m\u001b[0;34m\u001b[0m\u001b[0m\n\u001b[0m\u001b[1;32m      4\u001b[0m \u001b[0;34m\u001b[0m\u001b[0m\n\u001b[1;32m      5\u001b[0m \u001b[0mdocs\u001b[0m\u001b[0;34m=\u001b[0m\u001b[0;34m[\u001b[0m\u001b[0;34m]\u001b[0m\u001b[0;34m\u001b[0m\u001b[0;34m\u001b[0m\u001b[0m\n",
            "\u001b[0;32m/usr/local/lib/python3.10/dist-packages/langchain_community/document_loaders/pdf.py\u001b[0m in \u001b[0;36m__init__\u001b[0;34m(self, file_path, password, headers, extract_images)\u001b[0m\n\u001b[1;32m    155\u001b[0m                 \u001b[0;34m\"pypdf package not found, please install it with \"\u001b[0m \u001b[0;34m\"`pip install pypdf`\"\u001b[0m\u001b[0;34m\u001b[0m\u001b[0;34m\u001b[0m\u001b[0m\n\u001b[1;32m    156\u001b[0m             )\n\u001b[0;32m--> 157\u001b[0;31m         \u001b[0msuper\u001b[0m\u001b[0;34m(\u001b[0m\u001b[0;34m)\u001b[0m\u001b[0;34m.\u001b[0m\u001b[0m__init__\u001b[0m\u001b[0;34m(\u001b[0m\u001b[0mfile_path\u001b[0m\u001b[0;34m,\u001b[0m \u001b[0mheaders\u001b[0m\u001b[0;34m=\u001b[0m\u001b[0mheaders\u001b[0m\u001b[0;34m)\u001b[0m\u001b[0;34m\u001b[0m\u001b[0;34m\u001b[0m\u001b[0m\n\u001b[0m\u001b[1;32m    158\u001b[0m         \u001b[0mself\u001b[0m\u001b[0;34m.\u001b[0m\u001b[0mparser\u001b[0m \u001b[0;34m=\u001b[0m \u001b[0mPyPDFParser\u001b[0m\u001b[0;34m(\u001b[0m\u001b[0mpassword\u001b[0m\u001b[0;34m=\u001b[0m\u001b[0mpassword\u001b[0m\u001b[0;34m,\u001b[0m \u001b[0mextract_images\u001b[0m\u001b[0;34m=\u001b[0m\u001b[0mextract_images\u001b[0m\u001b[0;34m)\u001b[0m\u001b[0;34m\u001b[0m\u001b[0;34m\u001b[0m\u001b[0m\n\u001b[1;32m    159\u001b[0m \u001b[0;34m\u001b[0m\u001b[0m\n",
            "\u001b[0;32m/usr/local/lib/python3.10/dist-packages/langchain_community/document_loaders/pdf.py\u001b[0m in \u001b[0;36m__init__\u001b[0;34m(self, file_path, headers)\u001b[0m\n\u001b[1;32m     89\u001b[0m                 \u001b[0mr\u001b[0m \u001b[0;34m=\u001b[0m \u001b[0mrequests\u001b[0m\u001b[0;34m.\u001b[0m\u001b[0mget\u001b[0m\u001b[0;34m(\u001b[0m\u001b[0mself\u001b[0m\u001b[0;34m.\u001b[0m\u001b[0mfile_path\u001b[0m\u001b[0;34m,\u001b[0m \u001b[0mheaders\u001b[0m\u001b[0;34m=\u001b[0m\u001b[0mself\u001b[0m\u001b[0;34m.\u001b[0m\u001b[0mheaders\u001b[0m\u001b[0;34m)\u001b[0m\u001b[0;34m\u001b[0m\u001b[0;34m\u001b[0m\u001b[0m\n\u001b[1;32m     90\u001b[0m                 \u001b[0;32mif\u001b[0m \u001b[0mr\u001b[0m\u001b[0;34m.\u001b[0m\u001b[0mstatus_code\u001b[0m \u001b[0;34m!=\u001b[0m \u001b[0;36m200\u001b[0m\u001b[0;34m:\u001b[0m\u001b[0;34m\u001b[0m\u001b[0;34m\u001b[0m\u001b[0m\n\u001b[0;32m---> 91\u001b[0;31m                     raise ValueError(\n\u001b[0m\u001b[1;32m     92\u001b[0m                         \u001b[0;34m\"Check the url of your file; returned status code %s\"\u001b[0m\u001b[0;34m\u001b[0m\u001b[0;34m\u001b[0m\u001b[0m\n\u001b[1;32m     93\u001b[0m                         \u001b[0;34m%\u001b[0m \u001b[0mr\u001b[0m\u001b[0;34m.\u001b[0m\u001b[0mstatus_code\u001b[0m\u001b[0;34m\u001b[0m\u001b[0;34m\u001b[0m\u001b[0m\n",
            "\u001b[0;31mValueError\u001b[0m: Check the url of your file; returned status code 404"
          ]
        }
      ]
    },
    {
      "cell_type": "code",
      "source": [],
      "metadata": {
        "colab": {
          "base_uri": "https://localhost:8080/"
        },
        "id": "zSCDrHKR443P",
        "outputId": "1b5ebbe5-a635-4213-e844-ec4991f0313a"
      },
      "execution_count": null,
      "outputs": [
        {
          "output_type": "stream",
          "name": "stdout",
          "text": [
            "32\n",
            "[Document(page_content=\" \\n Page 1 of 17  \\n \\n \\n“Glenmark Pharmaceuticals Limited Q 1 FY'24 \\nEarnings Conference Call ” \\n \\nAugust 14, 202 3 \\n \\n \\n \\n \\n \\n \\n \\n \\n  \\n \\n \\n \\nMANAGEMENT : MR. GLEN N SALDANHA  – CHAIRMAN  & MANAGING \\nDIRECTOR , GLENMARK PHARMACEUTICALS LIMITED . \\nMR. V. S. MANI – EXECUTIVE DIRECTOR & GLOBAL \\nCFO,  GLENMARK PHARMACEUTICALS LIMITED . \\nMR. BRENDAN O'G RADY – CHIEF EXECUTIVE \\nOFFICER , GLOBAL FORMULATIONS BUSINESS . \\nMR. UTKARSH GANDHI  – GENERAL MANAGER , \\nINVESTOR RELATIONS , GLENMARK \\nPHARMACEUTICALS LIMITED . \\n\", metadata={'source': 'https://glenmark.b-cdn.net/gpl_pdfs/investors/reports_presentations/earning_concall/GlenmarkPharma-Earnings-14Aug-2023%20Transcript.pdf', 'page': 0}), Document(page_content=\" Glenmark Pharmaceuticals Limited  \\nAugust 14, 2023  \\n \\n Page 2 of 17 \\nModerator : Good morning , ladies and gentlemen. Welcome to the Q 1 FY'24 Earnings Conference Call of \\nGlenmark Pharmaceuticals Limited.  \\nAs a reminder, all participant lines will be in the listen -only mode. And there will be an \\nopport unity for you to ask questions after the presentation concludes. Should you need assistance \\nduring the conference call , please signal an operator by pressing ‘*’ then ‘0’ on your touchtone \\nphone. Please note that this conference is being recorded.  \\nI now ha nd the conference over to Mr. Utkarsh Gandhi - General Manager , Investor Relations \\nfor Glenmark Pharmaceuticals. Thank you , and over to you sir.  \\nUtkarsh Gandhi : Good morning everyone and welcome to the Q 1FY'24 Results Conference Call of Glenmark \\nPharmaceut icals Limited . \\nOverall Performance Review of 1st Quarter FY'24  \\nLet us review the overall performance of the Company for the first quarter of FY'24. Glenmark's \\nconsolidated revenue from operations for the first quarter of FY'24 was at Rs. 34,106 million as \\nagainst Rs. 27 ,773 million in the corresponding quarter last year, recording a n overall year -on-\\nyear growth of 22.5%. We will review each of the businesses of Glenmark Pharmaceuticals \\nLimited, starting off with India. Sales from the formulation  business in India for Q1 FY'24 were \\nat Rs. 10,643 million as against Rs. 10,352 million in Q1 of FY'23 which means recording YoY \\ngrowth of 2.8%. The lower growth was mainly on account of the full impact of divestment of \\nfew non -core brands last year as we ll some impact of the NLEM price revisions.  \\nThe India business contribution was at 31.3% in Q1 of FY'24 compared to 37% in Q1 last year.  \\nGlenmark's India Business continued to significantly outperform industry growth rates . As per \\nIQVIA  Q1 FY'24 data Glenmark’s India Formulation Business recorded a growth of 10.7% \\ncompare d to industry growth rate of 8.1% , furthermore as per the IQVIA MAT June data \\nGlenmark's India Business grew by 13.1% compared to an industry growth of 10.3%.  \\nGlenmark's  India Business continues to be ranked 14th with the market share of 2.12%. The \\nCompany also continues to have nine brands in the IPM Top 300 brands in the country as per \\nIQVIA MAT June data.  \\nIn Q1 and MAT June 2023 contribution from the chronic therapeuti c segments of Glenmark's \\nwas at 47% and 45% respectively. In terms of key therapeutic segments, Glenmark's is rank \\nsecond in both Respiratory and Dermatology segments. In addition, Glenmark's is ranked 5th in \\nthe Cardiac segment and 17th in the Diabetic segment.  \\nDuring the quarter, Glenmark's India Business also considerably improve that’s market share in \\nthis key therapeutic areas, as per IQVIA MAT June data the dermatology market share increase d \\nto 7.42%. The Glenmark ’s share in the res piratory market increase d to 5.65%, while \", metadata={'source': 'https://glenmark.b-cdn.net/gpl_pdfs/investors/reports_presentations/earning_concall/GlenmarkPharma-Earnings-14Aug-2023%20Transcript.pdf', 'page': 1}), Document(page_content=\" Glenmark Pharmaceuticals Limited  \\nAugust 14, 2023  \\n \\n Page 3 of 17 \\nGlenamark ’s share in the Cardiac market increase d to 5.23%. Glenmark ’s share in the diabetes \\nwas at 2.21%. These market share gains have been led by higher than industry growth rates for \\nGlenmark across most of the  core therapeutic segments.  \\nGlenmark is expecting business growth to remain stable in spite of a recent slowdown in certain \\nacute segments of the industry such as respiratory and anti effective. The Company has launched \\nmultiple lines in extensions during the quarter and continues to gain marketshare in some of the \\nkey launches across the co re therapeutic segments. And the Company continues to have a healthy \\npipeline of differentiated products which it will launch in the market going forward.  \\nConsumer Care Business  \\nThe Consumer Care business in India, primary sales for the Glenmark Consumer Care in Q1 \\nFY'24 worth Rs. 781 million with a growth of 21.3 which was mirrored by a strong double -digit \\nsecond ary growth of 17%. The company flagship brand Candid Powder  delivered revenue \\ngrowth of 2 9% in Q1 ; La Shield portfolio delivered 2% growth in Q1 which was low primarily \\ndue to our high base last year  and the Scalp portfolio recorded growth of 58% in the first quarter \\nof FY'24.  \\nNorth America  \\nMoving on to North Amer ica, the North America business registered revenue of Rs. 8.085 \\nmillion which is about USD $98.4 million for the first quarter of FY'24 as against Rs. 6,628 \\nmillion which is about $86.1 million for Q1 FY'23, which translates into year -on-year growth \\nrate o f 22%.  \\nThe North America business contribution was at 23.8% compared to 23.9% in Q1 last year. In \\nthe first quarter Glenmark launched Clindamycin Hydrochloride capsules which was approved \\nin the previous quarter . Additionally  Glenmark file two ANDAs in the first quarter of FY'24. \\nThe Company plans to file two to three applications in the forthcoming quarter and a total of 10 \\nto 12 ANDAs in FY'24.  \\nGlenmark's marketing portfolio consists of 183 generic products which are authori zed for \\ndistribution in the U.S. market and the Company has 50 applications pending at various stages \\nof the approval process.  \\nEurope  \\nEurope business, Glenmark's Europe operations for Q1 FY'24 were at Rs. 5,732 million as \\nagainst Rs. 3,300 million in Q1 la st year recording a year -on-year growth of 73.7%. The Europe \\nbusiness contributed 16.9% of the total revenues in the first quarter of FY'24. The strong growth \", metadata={'source': 'https://glenmark.b-cdn.net/gpl_pdfs/investors/reports_presentations/earning_concall/GlenmarkPharma-Earnings-14Aug-2023%20Transcript.pdf', 'page': 2}), Document(page_content=\" Glenmark Pharmaceuticals Limited  \\nAugust 14, 2023  \\n \\n Page 4 of 17 \\nin the region was driven by an uptick in the base business as well as new product launches during  \\nthe first quarter.  \\nThe Western European business recorded high double -digit growth for Q1 with markets like the \\nUK and Spain growing significantly. Amongst the key markets the UK recorded strong growth \\non the back of key launches particularly in the gener ics business and key markets in Central and \\nEastern Europe such as Czech and Poland also recorded strong secondary sales growth.  \\nGlenmark's Respiratory portfolio in Europe has also been a key factor for the strong performance \\nin Q1. The Company has seen a strong uptake across all four Respiratory brands that it has \\nlaunched particularly brands like Ryaltris and Soprobec, Ryaltris continues to exhibit strong \\ngrowth across markets in which both Glenmark and partner Menarini have launched the product. \\nAnd Salm ex and Esthemax also continue to sustain its market share across the CEE markets both \\nin terms of value and volume.  \\nIn addition the Company mentioned in the last earnings call that it has filed four additional \\nrespiratory products for the EU markets. And w hich would be launched over the next two to \\nthree years. And Glenmark has also entered the Italian market and will be expanding across the \\ncountry in the forthcoming quarters.  \\nROW  \\nROW region which consists of Asia, Middle East, Africa, Russia, CIS and Lati n America , for \\nthe first quarter of FY'24 revenue from the ROW region was Rs. 5.512 million as against Rs. \\n4,226 million for Q1 last year, recording a year -on-year growth of 30.4%. For Q1 FY'24 the \\nROW business contribution was at 16.2% compared to 15.2% l ast year.  \\nThe Company witnessed healthy growth in the base business across all sub details of the ROW \\nmarket, starting off with Russia, as per IQVIA, June and MAT June data Glenmark's Russia \\nbusiness recorded growth of 34% and 17% respectively in value. Th is has been driven by all key \\nbrands including Ryaltris , Ascoril and Montlezir . \\nAmongst the Derma tology companies, Glenmark ranks 10th as per MAT June 2023 data and \\namongst the company's presen ce in the expectorant market in Russia, Glenmark continues to \\nmaintain its strong second rank as per the MAT June data. In June, Glenmark also launched \\nAscoril LS which is a combination to further consolidate  it’s leadership position in the \\nexpectorants market.  \\nThe Asian region recorded 14% secondary sales growth which is driven by markets like \\nPhilippines and Vietnam. Dermatology and Respiratory are the key therapeutic areas in which \\nGlenmark is present in Asia and contribute significantly to the overall sales. In addition, Ryaltris \\nwas launched by Glenmark in the Malaysian market in Q1 FY'24 we have seen good demand so \", metadata={'source': 'https://glenmark.b-cdn.net/gpl_pdfs/investors/reports_presentations/earning_concall/GlenmarkPharma-Earnings-14Aug-2023%20Transcript.pdf', 'page': 3}), Document(page_content=\" Glenmark Pharmaceuticals Limited  \\nAugust 14, 2023  \\n \\n Page 5 of 17 \\nfar post launch. And Ryaltris continues to hold (18%+) value market share in Australia across \\nthe top allergic Rhinitis products. The product has  also received strong response in South Korea \\npost launch in Q3 of last year by partner Yuhan  Corporation . \\nMiddle East Africa region recorded (20%+) growth in sales during the first quarter, Glenmark \\ncontinues be ranked third in the overall Kenya market. F urther the Company continue d to \\nachieve strong secondary sales growth in South Africa, UAE. Ryaltris again was a key product, \\nit was launched in Saudi Arabia in Q1 and is expected to drive the further growth in the \\nRespiratory segment, as a product will ge t launched across other NEA  market in FY'24.  \\nLatin America region witnessed strong growth in Q1, Respiratory portfolio was the key \\ncontributor for Glenmark in the Latin American markets. The Brazil business for Glenmark \\nachieved 25% plus growth in its cove red market Company maintains its rank amongst the top \\ncompanies in the covered market for chronic respiratory segment in Brazil as per IQVIA MAT \\nJune data.  \\nAnd secondary sales growth also remain strong in Glenmark's other key market which is Mexico. \\nGlenmark's business in Mexico grew by 25%, then 15%, 25% in value and 15% in units as per \\nIQVIA MAT June data.  \\nKey Highlights for Ryaltris  \\nWe will cover some key highlights for Ryaltris as of the end of Q1 FY'24 marketing applications \\nfor Ryaltris have bee n submitted in more than 70 countries across the world. The product has \\nbeen commercialized in 29 markets including major markets like the USA, Canada, markets in \\nEurope like the UK, Australia, Russia, South Africa, South Korea and Saudi Arabia.  \\nMenarini G lenmark's partners in the EU intends to launch the product in additional European \\nmarkets in FY'24 and consolidate  its position in the market where the product has already been \\nlaunched. In addition,  the markets in which Glenmark is selling, we continue to  do well in \\nRyaltris in Europe.  \\nHikma Glenmark commercial partner in the U.S. continues to see strong prescription, new \\nprescription and repeat prescription growth as the allergy season progresses through the country.  \\nGrand Pharmaceuticals  is Glenmark's partner in Mainland China, they aim to complete the \\nongoing Phase III study in the country and submit the marketing authorization application in the \\nsecond half of FY'24. And we have mentioned some key market shares for Ryaltris, value market  \\nshares across a few  markets where Glenmark and their partners have already launched Ryaltris. \\nSo, Australia, we have ( +18%) market share, South Africa 15%, Czech Republic 25%, Poland \\n8% and Italy 10%.  \", metadata={'source': 'https://glenmark.b-cdn.net/gpl_pdfs/investors/reports_presentations/earning_concall/GlenmarkPharma-Earnings-14Aug-2023%20Transcript.pdf', 'page': 4}), Document(page_content=\" Glenmark Pharmaceuticals Limited  \\nAugust 14, 2023  \\n \\n Page 6 of 17 \\nIn terms of other key Respiratory products, clinical t rial is ongoing for the generic  Flovent pMDI  \\nfiling and we expect to file the product in FY'24  and as mentioned before we plan to file at least \\none more generic Respiratory pMDI in the U.S. in FY'24 and then continue our momentum \\nbeyond that.  \\nGRC 54276  \\nCovering some highlights on Glenmark's innovative R&D pipeline starting of f with GRC 54276. \\nGRC 54276 is a novel HPK1 inhibitor being developed as an orally administered immuno \\ntherapeutic agent for patients with solid tumors . GRC 54276 is currently being eva luated in the \\nfirst two human study, Phase I clinical study, Part 1A Monotherapy phase of the study is ongoing \\nin India since July 2022  and no known limiting toxicities have been observed so far. Based on \\nthe Phase I ANDA approvals, which were received fro m DCGI as well as the USFDA in Q4 of \\nFY'23  the Phase I, Part IB combination study of GRC 54276 with Pemrolizumab and \\nAtezolizumab was initiated in India in the first quarter of FY'24. And initiation of this study in \\nthe U.S. is planned in the second quarte r of FY'24.  \\nGRC 39815  \\nGRC 29815 is a RORγt inhibitor and company's Respiratory pipeline asset being developed as \\nan Inhale therapy for mild to moderate COPD. It is currently in Phase I development.  \\nGlenmark Li fe Sciences  \\nMoving  on to Glenmark Lice Sciences, revenue from operations including captive sales were \\nRs. 5,785 million as against Rs. 4,899 million for Glenmark Life Sciences recording a YoY \\ngrowth of 18.1%. Generic API revenues for GLS in Q1 increased by 13.3% and the bus iness \\nalso witnessed a strong growth in the CDMO revenues. Detailed engineering work has also \\nstarted in the new manufacturing site for GLS in Solapur. External sales for GLS in Q1 of FY'24 \\nwere at Rs. 3,769 million as against Rs. 3,251 million, recording a growth of 16%.  \\nICHNOS SCIENCES  \\nMoving on to ICHNOS SCIENCES,  Glenmark has invested Rs. 1,417 million which is about \\nUSD $17.2 million in the first quarter of FY'24 compared to Rs. 1,682 million which is USD \\n21.8 million in Q1 last year, and Rs. 1,906 mil lion which is USD 24 million in Q4 of FY'23. For \\nfurther updates on the pipeline of ICHNOS, please log on  to their website, the pipeline update \\nfor the first quarter has been uploaded.  \\nKey Objectives for FY'24  \", metadata={'source': 'https://glenmark.b-cdn.net/gpl_pdfs/investors/reports_presentations/earning_concall/GlenmarkPharma-Earnings-14Aug-2023%20Transcript.pdf', 'page': 5}), Document(page_content=\" Glenmark Pharmaceuticals Limited  \\nAugust 14, 2023  \\n \\n Page 7 of 17 \\nWe want to reiterate our key objectives for FY '24 which we stated earlier consolidated revenue \\ngrowth of 10% to 11%, consolidated R&D investment of 8% to 8.5%. Consolidated EBITDA \\nmargin of 19% to 20% plus consolidated CAPEX of Rs. 600 crore to Rs. 700 crore. And we \\nprioritize free cash generation as well as closing out one out  licensing deal.  \\nHighlight on Results  \\nBefore we open the call for Q&A we just want to highlight some notes to the results. EBIT DA \\nfor the first quarter of FY'24 was Rs. 631.2 crore with an EBITDA margin of 18.6%. FOREX \\nloss for t he quarter was Rs. 16 crore which is recorded in other expenses, excluding this the \\nEBITDA margin for Q1 was at 19%. Total R&D expenditure in Q1 FY'24 was around Rs. 284 \\ncrore which is 8.3% of revenue for the first quarter. As mentioned before ICHNOS inves tment \\nin Q1 was at $17.2 million.  \\nInventory for the period ended June 30th was at Rs. 3,319.8 crore as against Rs. 2,977.8 crore as \\nof March. Receivables as of June 30th, 2023,  was at Rs. 4,183.7 crore as against Rs. 4,098.6 crore \\nas of March  and payables as of June 30th was at Rs. 2,508.1 crore as compared to Rs. 2,391.9 \\ncrore as of March.  \\nTotal asset addition in the quarter was Rs. 127.5 crore of which tangible assets  addition was \\nabout Rs. 108 crore and intangible addition was about Rs. 19.5 crore. Gross  debt for the period \\nended June 30th, 2023,  was at Rs. 4,443 crore as against Rs. 4,348 crore in March. And net debt \\nfor the period ended June 30th was at Rs. 2,947 crore as against Rs. 2,905 crore in March.  \\nI would like to introduce the management of Glenmark Pharmaceuticals on the call today. We \\nhave with us Mr. Glen Saldana  - Chairman and Managing Director ; Mr. V .S. Mani - Executive \\nDirector and Global Chief Financial Officer and Mr. Brendan O'Grady  - Chief  Executive Officer , \\nGlobal Formulations Business.  \\nWith that we would like to open the floor up for Q&A.  \\nModerator : Thank you. Ladies and gentlemen, we will now begin with the question -and-answer  session.  The \\nfirst question is from the line of Damayanti Ker ai from HSBC . Please go ahead.  \\nDamayanti Kerai : My first question is you have booked exceptional item for remediation cost related to India and \\nMonroe sides. So, with it are you broadly done with the cost which you will be incurring for \\nremediation or you expect like substantial cost to come in ahead also?  \\nGlenn Saldan ha: So, I think we are broadly done with most of the remediation cost. And going forward what we \\nexpect as of  now is very minimal cost  not very significant both at U.S. and India.  \\nDamayanti Kerai : And what will be timeline for say completion of remediation work at both the sides?  \", metadata={'source': 'https://glenmark.b-cdn.net/gpl_pdfs/investors/reports_presentations/earning_concall/GlenmarkPharma-Earnings-14Aug-2023%20Transcript.pdf', 'page': 6}), Document(page_content=\" Glenmark Pharmaceuticals Limited  \\nAugust 14, 2023  \\n \\n Page 8 of 17 \\nV.S. Mani : So, I think Damayanti a little bit of remediation will continue, but from a cost perspective it will \\nnot reflect in the numbers.  \\nDamayanti Kerai : So, cost broadly done and maybe once you complete then you can ask the FDA to come and re -\\ninspec t the plant?  \\nV.S. Mani : That’s correct.  \\nDamanyanti Kerai : My second q uestion is, can you update on your  stake sell for the Glenmark Life Sciences \\nbusiness, which will com e in for you. So, any timeline for it?  \\nV.S. Mani : So, right now all we can say is you know we have 7% to 8% sell down required by law, right \\nand we are wor king on it. I think there is a deadline -- \\nGlenn Saldanha : Yeah, we can do it till next August, because we did it in August of '21, so three year timeframe \\nis given, so we have time till next August, yeah.  \\nDamayanti Kerai : Till August 2024 you have th is 7%  to 8% sell down?  \\nGlenn Saldanha : Yes. \\nDamayanti Kerai : And my last question is on your spend on ICHNOS which is down to 17 million for the quarter. \\nSo, is this is the  new spend base which you are looking for this business or like it came down \\nfrom 21 mill ion, 22 million earlier. So, how should we look at spend for ICHNOS in coming \\nquarter. And if you can also update on some of the key pipeline assets for ICHNOS where we  \\nare expecting data readout etc?  \\nV.S. Mani : So, as far as this spend base is concerned this is the ne w basically territory in which we are \\nworking. As we had guided even during our Investor Call that we are pruning down our spends \\nfrom to about 60 million or so in a year, so broadly this is where we will spend on a quarterly \\nbasis.  \\nGlenn Sal danha : In terms of the pipeline as we have said right there are three active Oncology programs which \\nare underway, so 1343, 1442 and 2001. We think all of them will read out or will rea ch some \\ninflection point this year, in terms of possible POC for 1342 a nd 1442 and some evidence on \\n2001 this year. So, I think this year is a critical year in terms of the Oncology portfolio by \\nICHNOS.  \\nI think in parallel as you know Almirall continues to progress well on 880 in their Phase I clinical \\ntrial. And on 830 we ar e actively in discussions for potential partnerships on the portfolio. So, I \\nthink these are the five assets in ICHNOS which are of relevance which I think this year is a \\nimportant year for ICHNOS.  \", metadata={'source': 'https://glenmark.b-cdn.net/gpl_pdfs/investors/reports_presentations/earning_concall/GlenmarkPharma-Earnings-14Aug-2023%20Transcript.pdf', 'page': 7}), Document(page_content=' Glenmark Pharmaceuticals Limited  \\nAugust 14, 2023  \\n \\n Page 9 of 17 \\nDamayanti Kerai : And for any partnering etc ., most likely we will first release data, any data read out and then \\nthere is more likel ihood of getting into any partnership?  \\nGlenn Saldanha : Not necessary , actually so 830 we have already, the Phase II data, Phase IIB data is already out \\nin the public domain. On the O ncology assets, we have a bunch of presentations at ASH for both \\n1342 and 1442 this year. So, we have at least three different poster presentation s at ASH . We \\nconstantly keep releasing data at medical conferences, so some of that is in the public domain.  \\nModerator : Thank you. The next question is from the line of Shyam Srinivasan from Goldman Sachs. Please \\ngo ahead.  \\nShyam Srinivasan : First one on the run rate for the North America business, right. We saw like sequential \\nimprovement in fourth quarter , but again in Quarter 1 it ’s come off is there some seasonality \\nlinked issue here or how should we look at the growth going forward and your comments on the \\npricing environment there as well?  \\nBrendon O’Grady : I think if you look at the North American busin ess typically Q3 and Q4 are stronger quarters \\nthan Quarter 1 and Quarter 2. So, as we have said in the past we see the U.S. is basically around \\na $100 million business a quarter give or take. A lot of that depends on new product launches. \\nAgain Quarter 1 w e had some launches that split out a little bit later into the year so that’s the \\nreason that it would slightly under a 100, but in general we see good, sustained  growth in the \\nU.S. in the mid single digits as we have said before. So, I think if we go thro ugh the year you \\nwill see as the numbers come up closer to a 100 and in some quarters over 100, some quarters \\nmaybe a little under 100, but overall continued good growth in the U.S. as we launch the new \\nproduct s this year.  \\nShyam Srinivasan : The pricing, U. S. generic pricing environment, how does it look for you on your base business?  \\nBrendon O’Grady : Yeah I mean I think the U.S. pricing environment is, we are generally in line with the market, \\nright now it’s a mid-single  digit as far as price erosion, it ca n change a little bit, depending upon \\nyour portfolio in the products you launch, but we are relatively in line with the market.  \\nShyam Srinivasan : Just a second question on the India business, for like growth like integrated new practice is there \\n13%, how s hould we look at the India business growth and maybe outlook for the reminder of \\nthe year?  \\nBrendon O’Grady : I think we will see th e India business grow in the single digits for after the year . And I think we \\nhave a good solid business across India  as you k now we rank #2 in Derma and Respi and 5 in \\nCardiovascular. So, we see continue d good growth in the India business but I would put it in the \\nsingle digit.  ', metadata={'source': 'https://glenmark.b-cdn.net/gpl_pdfs/investors/reports_presentations/earning_concall/GlenmarkPharma-Earnings-14Aug-2023%20Transcript.pdf', 'page': 8}), Document(page_content=' Glenmark Pharmaceuticals Limited  \\nAugust 14, 2023  \\n \\n Page 10 of 17 \\nGlenn Saldanha : And also, Shyam for Q1, if you correct for some of the divestments and all that that we did, it is \\nabout 8%.  \\nShyam Srinivasan : So, Glenn just on the outlook and we did much better growth , I know it’s on a low base of last \\nyear, but reasons to just hold on to our gu idance rather than change or upgrade our guidance, \\nanything that’s stopping us?  \\nGlenn Saldanha : So, look the business overall continues to do exceedingly well across all the geographies. I mean \\nIndia as Brendon mentioned you are looking at a single digit t his year, because we are witnessing \\nsome slowdowns particularly in the Acute segment  and Glenmark has some big brands in Acute. \\nBut outside of India, I mean I think Europe is clearly doing exceedingly well for us, rest of the \\nworld markets are doing well. The U.S. we will definitely do our guidance for the U.S. right. So, \\nmid single digit could be ahead of that also. So, I think all -in-all the business is doing well and \\ngiven where we see things, we should be able to meet our guidance or even exceed our gui dance \\nthis year.  \\nModerator : Thank you. The next question is from the line of Saion Mukherjee from Nomura. Please go \\nahead.  \\nSaion Mukherjee : Just on India you mentioned 8% growth this is excluding the divestment and NLEM or is it just \\nthe effect of d ivestme nt? \\nV.S. Mani : Saion, so excluding both divestments as well as NLEM, the growth was 8%.  \\nSaion Mukherjee : And are you see any headwinds in the sector in India, the volume growth are quite low  and we \\nare sort of hearing about the police moves to, asks doctors to prescribe using generic names , we \\nare seeing companies getting into trade generic . So, are you seeing th ese headwinds building up \\nor the industry is bringing down the volume growth ? And for this 8% growth that you mentioned \\nif you can take it do wn between the volume and price increases.  \\nGlenn Saldanha : So, I think Saion, on the policy side it’s all very new right it’s just come out a few days ago, we \\nare still trying to understand what are the implications of that, but outside of that I think the  \\nsector in India will continue to do well, I mean just given the growth that you are witnessing \\nacross the board, between branded products, generics, OTC, as a platform , institution  so I mean \\nthere is enough of opportunity for companies to take advantage o f the India platform  if they are \\nable to look for deep growth.  \\nI think so all -in-all, India should continue to do well. But there could be some ups and downs \\nhere and there  like we are facing some short -term seasonality issues  in the Acute segment. So, \\nthose kind of things will keep happening, but I think on an ongoing basis India should be a solid \\nbusiness, in the years to come.  ', metadata={'source': 'https://glenmark.b-cdn.net/gpl_pdfs/investors/reports_presentations/earning_concall/GlenmarkPharma-Earnings-14Aug-2023%20Transcript.pdf', 'page': 9}), Document(page_content=' Glenmark Pharmaceuticals Limited  \\nAugust 14, 2023  \\n \\n Page 11 of 17 \\nSaion Mukherjee : And again,  for Glenmark what is the kind of initiatives we are taking in India to sort of help \\ngrow ahead of the  market, I am just thinking from an OTC perspective or let’s say trade generic \\nwhich many of the companies have entered, if you can throw some light, why would sort of \\nGlenmark be able to g row ahead of the market?  \\nGlenn Saldanha : Look, I mean we have had a  stellar India business Saion over the last decades , we have \\nconsistently grown, we have had great brands, we have always been among the fastest two  to \\nthree players in terms of growth  so it’s been a great build out . I think from here on, from an \\nopportunity set there are multiple areas which could drive our India growth, right. We have a \\ngood OTC platform that we launched maybe about five, seven years ago. And some of the brands \\nwhether it’s Candid Powder or Scalp, La  Shield continue to do exceedingly well. So, I think that \\nI am pretty optimistic that the OTC platform will do well.  \\nWe have a small GX business which is very insignificant. But I think overall for Glenmark, our \\nfranchises in Dermatology we are ranked #1, #2. Respiratory we are now #2  so very strong \\nfranchises, right. Cardiovascular with brands like Telma, we are ranked #4. Diabetes is an area \\nwhich continues to be challenging , but I think across all the therapeutic areas that we operate \\nand we have built a  strong franchise. So, India remain s a strong business for us. And will \\ncontinue to do well, that’s the only visibility I can give you at this point, Saion.  \\nSaion Mukherjee : And also on the U.S. market, if you can give some color on let’s say how many laun ches we \\nshould expect or what’s the number of filings and launches  and a ny key product that you can \\ncall out  which can sort of have a material impact or you think we should sort of remain at around \\n$100 million mark a quarter, more or less for some time no w, what should we sort of think about \\nit? \\nBrendon O’Grady : So, I think if you think about the U.S. market in addition to the comments that I said we will \\ncontinue to launch new products as we got through the year. Probably in the range of 8 to 10 \\nnew produ cts, we have already launched Clindamycin in the first quarter. We are in the middle \\nof the Sitagliptin launch right now , we just started shipping so I think we are one of three or four \\non the market right now. So, we will see how that launch turns out. We  have a couple others this \\nquarter  that we will launch . And as far filings w e will file 8, 10, 12 products this year . \\nSo, like I said I think continue build up of U.S. market we should see a 12 in mid single digits, I \\nthink price erosion has come off a lit tle bit  it stabilized in the mid single digit range. So, I am \\noptimistic that we will continue to see the U.S. business grow, as Glenn said, I think we will \\nachieve our guidance and our numbers for the U.S. market this year. So, -- \\nGlenn Saldanha : I think also to add to what Brendon just said right, Saion, I think the key is for us it’s important \\nto get pas t Monroe so we get those injectable products which will further accelerate the growth \\nin the U.S. And if you go back to our Investor d eck we clearly ment ioned three  to four areas \\nwhere we are heavily focused one of them is Respiratory, the other is Injectable, some complex ', metadata={'source': 'https://glenmark.b-cdn.net/gpl_pdfs/investors/reports_presentations/earning_concall/GlenmarkPharma-Earnings-14Aug-2023%20Transcript.pdf', 'page': 10}), Document(page_content=\" Glenmark Pharmaceuticals Limited  \\nAugust 14, 2023  \\n \\n Page 12 of 17 \\ninject ibles. So, these are some of the areas where we see some good opportunities which we \\ncontinue to strive forward.  \\nNear term, I thi nk we are doing some good things, you will see some exciting launches coming \\nthrough in this quarter and probably next quarter which will help fuel the growth for the U.S. \\nright, near term. And if I look out longer term, it’s all about some of these pipeli ne products in \\nRespiratory, complex inject ibles and other areas  that we are continuing to work on. But a critical \\nevent for us obviously is to get pas t Monroe and get that going . \\nBrendon O’Grady : And that will lead into growth  this year. \\nGlenn Saldanha : Exactly.  \\nSaion Mukherjee : And one last question on Ryaltris though you have mentioned market share data in various \\nmarkets. Is it possible to share what in your estimate would be the sort of in -market sales for \\nRyaltris if you add up all the markets where yo u currently launch ed the product?  \\nGlenn Saldanha : So, that’s a tough one Saion, we don’t have the in -markets sales across all markets. But I think \\nwe guided to 40 million to 45 million for the year, we are clearly well ahead of that on Ryaltris \\nsales for this year. And I think given the fact that this is still in the launch phase  this could be a \\nvery big product for us. I mean we still haven’t launch ed the product in major markets like \\nBrazil, Mexico, China. Some of the major European markets are yet to la unch the product. And \\nin the other markets it’s still in the early phases of launch. So, it’s a good l aunch for us, and that \\nwill be a big driver for us, both in terms of contributions across both margins as well as top -line \\ngrowth across the board, so tha t’s a good build out for us.  \\nSaion Mukherjee : Just one clarification  this $ 40 to $4 5 million for fiscal '24 this is revenues to Glenmark or are \\nyou mentioning in -market sales --? \\nV.S. Mani : This is revenues to Glenmark.  \\nSaion Mukherjee : And it would have b een how much last year in FY'23?  \\nGlenn Saldanha : 20 million maybe.  \\nSaion Mukherjee : And this is what I think you have guided would sort of go to $150 million overtime right?  \\nGlenn Saldanha : That’s correct.  \\nModerator : Thank you. The next question is from the line of Nitin Agarwal from DAM Capital. Please go \\nahead.  \", metadata={'source': 'https://glenmark.b-cdn.net/gpl_pdfs/investors/reports_presentations/earning_concall/GlenmarkPharma-Earnings-14Aug-2023%20Transcript.pdf', 'page': 11}), Document(page_content=' Glenmark Pharmaceuticals Limited  \\nAugust 14, 2023  \\n \\n Page 13 of 17 \\nNitin Agarwa l: Glenn,  on the European business we have see very dramatic sharp, growth on the last few \\nquarters, I mean if you can just highlight what is really working and how should we look at now \\nEurope from this base to when you look to  the next two, three years?  \\nGlenn Saldanha : So, clearly Nit in, Europe will be a big driver for us, we have done very well. We still see at least \\na 25%, 30% growth coming on a full year basis o ut of Europe, so it  will almost be a $300 million \\nbusiness for us this year. So, that’s pretty substantial given the fact that our U.S. business is \\nabout $400 to $420 million. And we have taken so long to build it out, so it’s a great build out \\nfor us. I think Europe on a su stained basis given all the different things that we are working on \\nwill continue to grow around 15%, 20% on our sustained basis going forward. So, that’s the kind \\nof build -out that we are working on.  \\nNitin Agarwal : And Glenn on your profitability front, h ow different is it from our corporate profitability, right \\nnow?  \\nGlenn Saldanha : So, obviously the margin profile has improved dramatically as we are gaining more scale it \\ncontinues to improve, but Mani -- \\nV.S. Mani : Yeah, bu t still Nitin to the point it wi ll be little lower than the overall profitability, but much, \\nmuch better. Also with the kind of products that we have launched and Respi, Ryaltris all that, \\nso all that should take the margin -- \\nNitin Agarwal : Over a period of time as a business, and in what scale does it starts to become inline with \\ncorporate  profitability, or does it get there actually in the first place.  \\nV. S. Mani : See obviously there are some market which are clear outliers like India etc. which are way a head \\nall of others. But to be fair this businesses as they grow higher and higher and the benefit of \\nmargin comes in and it comes as close to it as possible. But its grown substantially, it used to be \\nsingle digits at one time, it’s well very well, much higher no w. \\nNitin Agarwal : On the working capital front, how are seeing Q1 and how do we see the remaining part of the \\nyear any pressure easing on receivables and inventory for you?  \\nV.S. Mani : Yeah, I will brief you so like Utkarsh shed out the number so if you loo k at inventory it’s more \\nor less number of let’s look at it because the business grew 22% and we are seeing a good year \\nthis year. So, if you look at the number of days inventory it is like more or less there is 84  some \\n85 days. Receivable in the last year , March,  it was  115 days it has come down to 107. So, broadly \\nI see while overall inventory went up by about Rs. 300 crore odd but also you have to factor in \\nthe fact that we are looking at good  growth in many of the businesses. So, I think all in all, the  \\nnumber of days of working capital,  which was about 132 last year end it’s 120, I think it will \\nimprove as it goes along only, will chip away -- ', metadata={'source': 'https://glenmark.b-cdn.net/gpl_pdfs/investors/reports_presentations/earning_concall/GlenmarkPharma-Earnings-14Aug-2023%20Transcript.pdf', 'page': 12}), Document(page_content=' Glenmark Pharmaceuticals Limited  \\nAugust 14, 2023  \\n \\n Page 14 of 17 \\nNitin Agarwal : Do you have any numbers that we are probably  aspiring to get  towards by the end of the year?  \\nV.S. Mani : I am hoping it will come to lower I mean it will come to closer to 120 or so which is where we \\nwere at sometimes back.  \\nModerator : Thank you.  The next question is from the line of Kunal Randeria from Nuvama. Please go ahead.  \\nKunal Randeria : Glenn Just want to get your thoughts around this ISB 830, see this is the most advanced product \\nin your ICHNOS pipeline in Phase II B yet it is not partnered, so just, can you run your thoughts \\naround it.  \\nGlenn  Saldanha : Well I think, I mean we have put out  our Phase II B data, so with some of the recent activity on \\nthe OX40 antagonist which has recently come in the global environment has brought about \\nrenewed excitement around 830. So, we are hoping that we will be able to partner this asset at \\nsome point.  \\nKunal Randeria : So, is this maybe one of the candidates that you are looking to partner this year, is that the one \\nthat you are factoring your guidance?  \\nGlenn  Saldanha : I mean, I am not giving any specifics, I mean we have partnering discussions across the various \\nassets between 54276 on the GPL side, the Oncology assets on ICHNOS  and 830 so there are \\nmultiple discussion on going it’s hard to predict what will close out.  \\nKunal Randeria : Secondly on Flovent you maintain that you will be filing it this year, s o can you run us through \\nwhat the competitive scenario could be, I believe there is (Inaudible)  40.51  in the market, but \\nwhat’s the kind of competition you expect, you know maybe by the time the launch gets late \\nnext year?  \\nGlenn  Saldanha : So, we believe there is one other filer right now on Flovent. And other than that we have no \\nvisibility to any additional filings. I mean keep in mind this is a large development, I mean you \\nare talking of clinical trial which runs into 1000s and 1000s of pati ents so it’s not an easy \\ndevelopment. So, we are hoping this will be a limited competition launch for us.  \\nKunal Randeria : In this quarter in the EU was there any benefit from, better than expected seasons or was it a \\nnormal quarter?  \\nGlenn  Saldanha : I think  it was a normal quarter overall.  \\nModerator:  Thank you. The next question is from the line of Sameer Deshpande from Fair Deal Investments. \\nPlease go ahead.  \\nSameer Deshpande : I would like to know last quarter we had a big settlement of around Rs. 800 crores  which was \\nprovided, so what is the timeline for the payment of that during the year?  ', metadata={'source': 'https://glenmark.b-cdn.net/gpl_pdfs/investors/reports_presentations/earning_concall/GlenmarkPharma-Earnings-14Aug-2023%20Transcript.pdf', 'page': 13}), Document(page_content=' Glenmark Pharmaceuticals Limited  \\nAugust 14, 2023  \\n \\n Page 15 of 17 \\nV.S. Mani : So, Sameer this will be paid over two years broadly, we had a $87.5 million settlement which \\nwill be paid over the current year and next year.  \\nSameer Deshpande : So, that will add to our debt which is currently at Rs. 3000 crores net. So, will we offset it by \\nselling this Glenmark Life  Sciences stake ? \\nV.S. Mani : No I think our internal generation of cash over the current year should also help us take care, so \\ntherefore we should be able to broadly take care of it from our internal funds.  \\nSameer Deshpande:  But is there any target to reduce the gross and net debt for the current year?  \\nV.S. Mani : Absolutely I mean as I said one of our key endeavor is to bring it down . Obviously two years \\nback we brought it down substantially , but over the last two years because of currency etc. those \\nare the reasons why it went up but I am hoping that this money will definitely get paid out by \\nour internal generation of funds. And as our business continues to grow and do better we should \\ndefinitely see the debt also com e dow n. \\nSameer Deshpande:  Because currently if you see the quarterly interest run -rate, it has gone up substantially and it \\nhas almost doubled if you take it year-on-year, so Rs. 112 crores versus Rs. 60 crores so?  \\nV.S. Mani : So, last two to three quarters you see it has gone up, because as you can see LIBOR which was \\none year back 1.5% today 5. 5% okay. So, obviously if you have dollar denominated loans, it has  \\ngone up, yeah that’s the reason mainly. There is nothing to do with the quantum of debt, it has \\ngot more to do with the interest rate scenario that changed dramatically over the last one year.  \\nSameer Deshpande:  So, there is no plan to sell a big stake in Glenmark Life  Sciences to clear off the debt?  \\nV.S. Mani : No, I think what we explained earlier also that we have to do 7% to 8% we will do that. And as \\nfar as the debt is concerned, I think with our EBITDA being where it is and overall business \\ndoing bette r we are hopeful that we should be able to take care of it.  \\nSameer Desphande:  But actually the perception of the market, always continues to be better for the companies which \\nare having very low debt or having cash, because in our case we have managed it w ell there is \\nno issue on that front. But if a pharmaceutical company, we are in a position to reduce our debt, \\nbecause we have good cash --? \\nV.S. Mani : Sameer we are working towards that leave it to us yeah, we will do that.  \\nModerator : Thank you. The next question is from the line of Sharad Ratnakumar from Eila Consulting \\nPrivate Limited.  Please go ahead.  \\nSharad Ratnakumar : My first question was again regarding the stake sell in  Glenmark Life  Sciences , so can you \\naddress in terms of two fold, one the cashfl ow requirements as the previous participant asked ', metadata={'source': 'https://glenmark.b-cdn.net/gpl_pdfs/investors/reports_presentations/earning_concall/GlenmarkPharma-Earnings-14Aug-2023%20Transcript.pdf', 'page': 14}), Document(page_content=' Glenmark Pharmaceuticals Limited  \\nAugust 14, 2023  \\n \\n Page 16 of 17 \\nand second can you give some comfort to the minority shareholders in terms of what percentage \\nwe are looking to sell, because it looks like Glen Life is -- cash generating company at the \\nmoment right?  \\nV.S. Mani : So, Sharad I will respond to that, so basically as per law we have to bring it down public \\nshareholding overall by up  to 25% so there is a 7% to 8% so that’s what we are working on \\ntoday. And as far as the cashflow requirements are there, we are broadly managing everything, \\nwe are generating enough funds, business is doing well, so I think that will take care of it.  \\nSharad Ratnakumar : So, I think in the previous quarter call we had mentioned that we have spent about Rs. 200 plus \\ncrores in consulta ncy charges for the remediation. And despite that we have received a warning \\nletter from USFDA, so can you throw some light on what possibly went wrong, is it the choice \\nof consultant? Is it that we were not -- the requirements of the consultants sufficien tly? What \\nwent wrong there?  \\nV.S. Mani : So, I think what will be helpful yes, I think you need to understand it a little better how it works. \\nSo, obviously the USFDA had come and they give us observations etc. and they work with us, \\nso obviously we have to start working on the remediation cost. I mean on the remediation and \\nthat will cost money okay. And as far as they take their time in giving the letter, so it’s not that \\nbig, I mean inspite of doing there is a warning letter, the warning letter happened be cause of the \\nearlier this, so you have done the remediation and that is why now it will help us to get back in \\nbusiness okay, that’s what I am saying, in from that plant.  \\nSharad Ratnakumar : So, we are saying that we are going to probably continue a little bit more of the remediation \\nwithout incurring any major cost?  \\nV.S. Mani : Minimal cost that’s what we said, minimal cost yeah beca use obviously it will have it’s I mean \\nwhile they are doing work a lot of it is already done, we are hoping. And this is across  the pharma \\nindustry okay, so there are other peers also who spent similar money whenever they have any \\nkind of this okay. So, this is the way it is.  \\nModerator : Thank you. Ladies and gentlemen, that was the last question. I now hand the conference over to \\nMr. Utkarsh Gandhi , for his closing comments.  \\nUtkarsh Gandhi : Will just read the disclaimer before we end the call . This document has been prepared by \\nGlenmark Pharmaceuticals Limited , the information statements and analysis made in this \\ndocument and durin g the call describing company ’s or its affiliates objectives, projections and \\nestimates are forward -looking statements , these statements are based on current expectations,  \\nforecast  and assumptions that are subject to risks and uncertainties, which could ca use actual \\noutcomes and results to differ materially from the se statements , depending upon economic \\nconditions, government policies and other factors. No t a presentation or warranty either \\nexpressed or implied is provided in relation to this document and this document should not be ', metadata={'source': 'https://glenmark.b-cdn.net/gpl_pdfs/investors/reports_presentations/earning_concall/GlenmarkPharma-Earnings-14Aug-2023%20Transcript.pdf', 'page': 15}), Document(page_content=' Glenmark Pharmaceuticals Limited  \\nAugust 14, 2023  \\n \\n Page 17 of 17 \\nregarded by recipients as a substitute for the exercise of their own judgment. The company \\nundertakes no obligation to update or revise any forward -looking statements whether as a result \\nof new information , future events or other wise. \\nWith this we can end the call thank you all for joining us today . \\nModerator : Thank you members of the management team. Ladies and gentlemen, on behalf of Glenmark \\nPharmaceuticals Limited that  concludes this conference call. We thank you for joining us and \\nyou may now disconnect your lines. Thank you.  ', metadata={'source': 'https://glenmark.b-cdn.net/gpl_pdfs/investors/reports_presentations/earning_concall/GlenmarkPharma-Earnings-14Aug-2023%20Transcript.pdf', 'page': 16}), Document(page_content=' \\n Page 1 of 15  \\n \\n \\n“Glenmark Pharmaceuticals Limited Q2 FY24 Earnings \\nConference Call”  \\n \\nNovember 15, 2023  \\n \\n \\n \\n \\n \\n \\n \\n \\n \\n  \\n \\n \\n \\nMANAGEMENT : MR. GLENN SALDANHA – CHAIRMAN & MANAGING \\nDIRECTOR , GLENMARK PHARMACEUTICALS LIMITED  \\nMR. V.S.  MANI – EXECUTIVE DIRECTOR & GLOBAL \\nCHIEF FINANCIAL OFFICER , GLENMARK \\nPHARMACEUTICALS LIMITED  \\nMR. UTKARSH GANDHI – GENERAL MANAGER , \\nINVESTOR  RELATIONS , GLENMARK \\nPHARMACEUTICALS LIMITED  \\n  \\n', metadata={'source': 'https://glenmark.b-cdn.net/gpl_pdfs/investors/reports_presentations/earning_concall/GlenmarkPharma-Earnings%20Call%20Transcript-15Nov-2023.pdf', 'page': 0}), Document(page_content=\" Glenmark Pharmaceuticals Limited  \\nNovember 15 , 2023  \\n \\n Page 2 of 15 \\nModerator:  Good morning, ladies and gentlemen. Welcome to the Q2 FY24 Earnings Conference Call of \\nGlenmark Pharmaceuticals Limited.  \\nAs a reminder, all participant lines will be in the listen -only mode and there will be an \\nopportunity for you to ask questions after the presentation concludes.  Should you need assistance \\nduring the conference call, please signal an operator by pressing ‘*’ then ‘0’ on your touchtone \\nphone. Please note that this conference is being recorded.  \\nI now hand the conference over to Mr. Utkarsh Gandhi  – General Manager, Investor Relations \\nfor Glenmark Pharmaceuticals. Thank you. And over to you, sir.  \\nUtkarsh Gandhi:  Good morning, everyone. Welcome to the Q2 FY24 Results Conference Call of Glenmark \\nPharmaceuticals Limited.  \\nWe will just review the overall performance of the  Company  for the 2nd Quarter  of FY24. For \\nthe 2nd Quarter  of FY24, Glenmark's consolidated revenue from operations was at Rs.35,879 \\nmillion as against Rs.33,752 million in the corresponding quarter last year, recording and overall \\nyear-on-year growth of 6. 3%. \\nFor the six months ended September 30th, 2023, Glenmark's consolidated revenue was \\nRs.69,895 million as against Rs.61,525 million, recording an increase of 13.6%.  \\nSome Key Updates on the Formulations Business starting with India : \\nSales from the formulations business in India in the 2nd Quarter  of FY24 were at Rs.11,217 \\nmillion as against Rs.10,916 million in the corresponding quarter last year, recording a year -on-\\nyear growth of 2.8%. The lower growth was mainly on account of the i mpact of the divestment \\nof few non -core brands and some impact of the NLEM price revisions as well as an overall \\nslowdown in the acute respiratory and dermatology therapy areas in the first six months of FY24. \\nThe India business contribution was at 31.3% i n the 2nd Quarter  of FY24 compared to 32.3% \\nlast year.  \\nThe Indian pharma market witnessed a slowdown in the acute segment, particularly on the \\nrespiratory side. Volume growth in the key therapy areas such as respiratory and dermatology \\nwere hence impacted in the first six months.  \\nAccordingly, as per IQVIA data for the 2nd Quarter , Glenmark India's formulations business \\nrecorded a growth of 5.4% compared to overall market growth of about 6.9%. In the 2nd Quarter , \\nGlenmark's growth remains strong in the cardi ac segment, but was impacted in other therapy \\nareas.  \", metadata={'source': 'https://glenmark.b-cdn.net/gpl_pdfs/investors/reports_presentations/earning_concall/GlenmarkPharma-Earnings%20Call%20Transcript-15Nov-2023.pdf', 'page': 1}), Document(page_content=\" Glenmark Pharmaceuticals Limited  \\nNovember 15 , 2023  \\n \\n Page 3 of 15 \\nGlenmark India business continue to be ranked 14th, with the market share of 2.11% as per \\nIQVIA MAT September data. The Company  continues to have nine brands in the IPM top -300. \\nAnd in terms of key thera peutic areas. Glenmark is ranked second in both dermatology and \\nrespiratory and 5th in cardiac segment and 17 in the diabetes segment as per IQVIA MAT \\nSeptember data.  \\nGlenmark has improved its market share marginally in spite of the challenging environment  in \\nQ2. And if you see the IQVIA MAT September data, we have improved our market share in \\nmost of the key therapy areas.  \\nIn August 2023 , Glenmark also announced that it had joined with OMRON Healthcare India, \\nthe Indian arm of the Japanese global leader in  home blood pressure monitoring and solutions \\nfor cardiovascular disease to raise awareness on measuring blood pressure at home from the age \\nof 18. This collaboration is named as “Take Charge @18 Initiative” and comprises of generating \\neffective communicat ion to enhance awareness about blood pressure monitoring in India. The \\nCompany  continues to have a healthy pipeline of differentiated products, which it plans to launch \\nin the market going forward.  \\nIn terms of the Consumer Care business in India, primary sales for the GCC business in the 2nd \\nQuarter  were Rs.634 million with a growth of 15%. Our flagship brand, Candid Powder \\ndelivered revenue growth of 10% in the 2nd Quarter . LA Shield portfolio delivered 23% growth \\nand the Scalp portfolio recorded about 29% growth. Scalp also recorded 41% growth in new 2 \\nbrand orders and it is also amongst the leading anti -dandruff shampoos in large e -commerce \\nchannels such as Amazon , and recently Candid Dustin g Powder was also recognized with The  \\nEconomic Times Iconic Brand Awards in 202 3. \\nThe North America business registered a revenue of Rs.7 ,392 million which is about US$89.4 \\nmillion for the 2nd Quarter  as against revenue of Rs.7,533 million , which is about US$95 million \\nfor the 2nd Quarter  of FY23 . This translates into a Y oY decline of about 1.9% . For the 2nd \\nQuarter , the North America business contribution was about at about 20.6% compared to 22% \\nlast year . \\nIn the 2nd Quarter , Glenmark launched the previously approved Norethindrone Acetate and  \\nEthinyl Estradiol Capsule and Ferrous Fumarate Capsule,  the generic for Ta ytulla. Glenmark \\nreceived approval and launched Saxagliptin Tablets and Tacrolimus Ointment 0.03%. Glenmark \\nalso launched Varenicline Tablets through  a partnership . These launches are expected to \\ncontribute to the overall sales growth for the region starting the 3rd Quarter  of FY24.  Glenmark \\nfiled two ANDAs during the 2nd Quarter  and the Company  plans to file a total of 10 to 12 \\nANDA s for FY24 . \\nGledmark 's marketing por tfolio through September 30th consists of 185 generic products \\nauthorized for distribution in the US market , and the Company  currently has 51 applications \", metadata={'source': 'https://glenmark.b-cdn.net/gpl_pdfs/investors/reports_presentations/earning_concall/GlenmarkPharma-Earnings%20Call%20Transcript-15Nov-2023.pdf', 'page': 2}), Document(page_content=\" Glenmark Pharmaceuticals Limited  \\nNovember 15 , 2023  \\n \\n Page 4 of 15 \\npending at various stages of the approval process with the USFDA, of which 21 are Para -IV \\napplication s. \\nIn August 2023, Glenmark Pharmaceuticals, Inc . announced that it had entered into an \\nagreement with the US Department of Justice Antitrust Division  to resolve all of its court \\nproceedings with the DJ O involving historical pricing practices by former emp loyees relating to \\nthe generic drug Pravastatin between 2013 and 2015. The Company  has entered into a three -\\nyear deferred prosecution agreement and the Company  adheres to the terms of the agreement, \\nincluding payment of $30 million payable in six installments, the DOJ  will dismiss the pending \\nsuperseding indictment.  \\nGlenmark 's Europe operations revenue for the 2nd Quarter  of FY24 was at Rs.5 ,997 million as \\nagainst Rs.3 ,785 million, recording a year -on-year growth of 58.4%. Europe business \\ncontribu tes 16.7% to the total revenues as of Q2 FY24 compared to about 11% last year.  \\nGlenmark European operations continued the strong trajectory given by robust uptick in the \\nbranded business and a sustained growth in the generics business as well. The western European  \\nbusiness clocked strong 30% growth for Q2, mainly led by the key markets , such as UK, which \\nrecorded strong growth on the back of generic business as well as uptake from the respiratory \\npipeline.  \\nThe Czech and Poland markets in the central and eastern European  region also recorded strong \\ndouble -digit sales growth during the quarter. Glenmark continues to outperform the Czech \\nmarket in terms of growth as per IQ VIA MAT September data . \\nThe respiratory portfolio launched by Glenmark in Europe continues  to do well. Some of the \\nkey brands such as RYALTRIS and Salmex continue to sustain their market share both in terms \\nof value as well as volume particularly across the CE market.  \\nDuring the 2nd Quarter , Glenmark also launched RYALTRIS in Slovakia, which is  another key \\nCE market for us. And Menarini , Glenmark's partner for RYALTRIS in the European market \\nrecorded strong growth across multiple markets where it has launched the product.  \\nIn Q2, a subsidiary of Glenmark , Ichnos  announced the signing and distribution agreements for \\nWinlevi which is Clascoterone Cream , 1% in Europe and South Africa . Under the terms \\nGlenmark will receive the exclusive right to commercialize the Winlevi in 15 EU markets as \\nwell as South Africa and the UK. CASSIOPEIA , which is  a subsidiary of Ichnos  shall be \\nresponsible for the marketing authorization submission at the EMA and Glenmark will undertake \\nthe registration for the product in the UK and South  Africa . \\nROW Region for the 2nd Quarter  of FY24. Revenue from the R OW region was at Rs.7 ,324 \\nmillion as against Rs.6 ,154 million for the corresponding quarter last year, recording a growth \", metadata={'source': 'https://glenmark.b-cdn.net/gpl_pdfs/investors/reports_presentations/earning_concall/GlenmarkPharma-Earnings%20Call%20Transcript-15Nov-2023.pdf', 'page': 3}), Document(page_content=' Glenmark Pharmaceuticals Limited  \\nNovember 15 , 2023  \\n \\n Page 5 of 15 \\nof 19% . For the 2nd Quarter , the ROW business contribution was 20.4% compared to 18% last \\nyear. The Company  continue s to witness strong growth i n the base business across the sub -\\nregions of the R OW market.  \\nIn Russia, as per IQVIA  Q2 and MAT d ata, Glenmark business recorded 16 % and 17% growth \\nin value respectively. This has been driven by key brands , including Ascorb ic, Monta seri, and \\nRYALTRIS . RYALTRIS has sustained its momentum and continues to gain market share even \\nduring the 2nd Quarter . \\nIn terms of key therapeutic areas, Glenmark recorded 21% of growth in value in the dermatology \\nsegment versus the overall dermatology market growth of abo ut 9.6% as per MAT September \\ndata. And amongst the dermatology companies, Glenmark is now ranked 8th as per the MAT  \\nSeptember data. And amongst the companies present in the Expectorant m arket, Glenmark \\nmaintains a strong position, ranking second.  Key recen t launches in Russia include Ascoril LS \\nand Femistar, which is the Demelan. \\nThe Asia region recorded about 10% growth in secondary sales, driven by markets like \\nPhilippines, Sri Lanka and Vietnam . Dermatology and respiratory continue to be the key \\ntherapeu tic areas contributing significantly to the overall sales in Asia . RYALTRIS which was \\nlaunched by Glenmark in Malaysia in the first quarter of FY24 has seen a strong pickup in the \\nmarket . RYALTRIS also in Australia launched by a partner continues to hold a bout 18% share \\nacross the top allergic Rhinitis product. And in South Korea, where the product was launched \\nrecently by our partner , Yuan Corporation, RYALTRIS is now ranked first in the combination \\nprescription market and fourth in the overall prescription market for Inhale Nasal Sprays . So that \\nit has seen a strong start in South Korea as well.  \\nThe Middle East Africa region recorded about 15% growth in sales during the 2nd Quarter  of \\nFY24. Glenmark continues  to be ranked third  in the overall MEA market and has recorded 25% \\ngrowth in secondary sales. Further, the Company  continue to achieve strong secondary sales \\ngrowth across other key markets in the region like South Africa, UAE and other African market s. \\nRespiratory and derma tology again are the key therapeutic areas in this region and RYALTRIS \\nwhich was launched in Saudi Arabia in the first quarter of FY24 and product has received good \\nresponse in the market. The product will be launched in other Middle East Africa markets in  Q3 \\nand Q4 as well.  \\nLatin America achieved double -digit growth in 2nd Quarter  of FY24. The respiratory portfolio \\nremains  the key contributor for Glenmark in this region. Glenmark Brazil achieved about 20% \\ngrowth in the covered market as per IQVIA YTD Augus t 2023 data , and it continues to maintain \\nits rank amongst the top companies in the covered market of chronic respiratory segment in \\nBrazil . And secondary sales growth has remained strong in Mexico as well and Glenmark is ', metadata={'source': 'https://glenmark.b-cdn.net/gpl_pdfs/investors/reports_presentations/earning_concall/GlenmarkPharma-Earnings%20Call%20Transcript-15Nov-2023.pdf', 'page': 4}), Document(page_content=\" Glenmark Pharmaceuticals Limited  \\nNovember 15 , 2023  \\n \\n Page 6 of 15 \\ngrowing at about 18% value in term s of the covered market as per IQ VIA YTD August 2023 \\ndata.  \\nIn terms of our respiratory pipeline ” \\nSome key business updates for the global respiratory business . Starting with R YALTRIS, as of \\nthe end  of 2nd Quarter  of FY24, marketing applications for RYALTRIS have been submitted in \\nmore than 70 markets . The product has been commercialized in 29 markets, including all the \\nmajor markets that we alluded to earlier. Glenmark 's partner in the EU, Menarini intends to \\nlaunch the product in other additional EU markets in FY24. Hikma, Glenmark 's commercial \\npartner in the US continue to see strong prescriptions in the 2nd Quarter  and Glenmark 's partner \\nin Mainland China, Grand Pharmaceuticals has succes sfully completed the phase -III clinical trial \\nwith the product meeting the primary endpoint , and the NDA submission to the National \\nMedicines Product Administration is targeted for December 2020.  We've provided some key \\nmarket shares for RYALTRIS across th e key geographies.  \\nIn terms of other key respiratory products : \\nThe clinical trial is ongoing for the generic Flovent p MDI. We expect to file it in FY24,  and we \\nplan to file one more respiratory p MDI  in the US in FY25 and continue the momentum beyond \\nthat. \\nA Quick Update on our Innovative R&D pipeline : \\nGRC 54276, which is the HPK1 inhibitor , this is a novel , orally active HPK1 inhibitor that \\ndemonstrates standalone efficacy and enhances current immunotherapy efficacy. It is being \\nevaluated in a First in Human Phase 1  study . Part 1a of the monotherapy phase is ongoing in \\nIndia since July 2022. Additional subjects are being recruited in the 50  mg monotherapy backfill \\ncohort . Phase 1 , Part 1 b combination study with pembrolizumab and a tezolimumab was initiate d \\nin India and the US in the first quarter of FY24 and 2nd Quarter  of FY24 respectively. And as \\nof the 2nd Quarter , two dose cohorts have been completed and the study is ongoing . \\nGRC 39815 is the Company 's respiratory pipeline being developed as an inhaled  therapy for \\nmild-to-moderate COPD. It is currently under Phase 1 development in the US . \\nExternal sales for GLS in the 2nd Quarter  were at R s.3,930 million as against Rs.3 ,744 million \\nin Q2 last year, recording a YoY growth of 5%.  \\nIn September 2023, Glenma rk announced that it had entered into a definitive agreement with \\nNirma Limited to diverse 75% stake in its subsidiary Glenmark Life S ciences at a price of Rs.615 \\nper share for an aggregate consideration of Rs.56,515 million, subject to closing adjustment . \\nGlenmark would continue to own 7. 84% in GLS after the divestment . The transaction is subject \", metadata={'source': 'https://glenmark.b-cdn.net/gpl_pdfs/investors/reports_presentations/earning_concall/GlenmarkPharma-Earnings%20Call%20Transcript-15Nov-2023.pdf', 'page': 5}), Document(page_content=' Glenmark Pharmaceuticals Limited  \\nNovember 15 , 2023  \\n \\n Page 7 of 15 \\nto some customary closing conditions precedent, including receipt of regulatory and shareholder \\napprovals . For further updates, you can log on to the GLS website.   \\nA quick update on Ichnos : \\nGlenmark invested Rs.1 ,613 million, which is about 19.6 million in Ichnos  in the 2nd Quarter  \\nof FY24 compared to about 22 million in the corresponding quarter last year. For the first six \\nmonths, Glenmark invested  Rs.3,030 million, which is about US$36.8 million compared to \\nabout US$43 million which was invested in the previous year.  \\nSome Additional Notes to the Results : \\nFOREX loss for the quarter was about Rs.43 crores, which was recorded in other expenses. If \\nyou exclu de this, the EBITDA margin for the consolidated business was at 18.8% in the 2nd \\nQuarter . Exceptional item in the quarter and for the half year respectively comprises of the US \\nDOJ to the settlement and remediation cost for the manufacturing facilities in India and the US.  \\n“Some Key Figures for the Consolidated Business” : \\nR&D expenditure in the 2nd  Quarter  was around Rs.324 crores, which is 9% of the revenue from \\noperations and the Ichnos  investment as we noted earlier was 19.6 million for the 2nd Quarter . \\nConsolidated total asset addition in the quarter was Rs.249 .7 crores , of which tangible assets \\nwas about Rs.162.8 crores and intangible assets was about Rs.86.9 crores. Consolidated gross \\ndebt for the period ended September 30th was at Rs.4 ,921 crores as a gainst Rs.4 ,348 crores as \\nof March 31st , 2023 . Net debt for the period ended September 30th was at Rs.3 ,355 crores as \\nagainst Rs.2 ,905 crores as of March 31st , 2023 . The increase  in net debt was mainly on account \\nof the settlement payment for the generic s litigation and payment related to the settlement \\nagreement with t he US  DOJ. \\nIn terms of working capital : \\nAt the end of September, inventory was at R s.3,319 crores as against Rs.2 ,978 crores a t the end \\nof March . Receivables were  at Rs.3 ,679 crores as agains t Rs.4 ,099 crores at the end of March \\nand payables were  at Rs.2 ,289 crores as against Rs.2392 crores at the end of March . \\nGiven the changes in the organization, mainly the GLS divestment, we would just like to provide \\nsome key comments on how we see the wa y forward for Glenmark before we start the Q&A. \\nSo, the first important point is that we are expecting the GLS transaction will get recognized in \\nQ3 FY24 after receiving the required regulatory and other approvals. We are considering this \\nyear as a transition year on account of the GLS divestment, which has obviously been a big  \\nevent . ', metadata={'source': 'https://glenmark.b-cdn.net/gpl_pdfs/investors/reports_presentations/earning_concall/GlenmarkPharma-Earnings%20Call%20Transcript-15Nov-2023.pdf', 'page': 6}), Document(page_content=\" Glenmark Pharmaceuticals Limited  \\nNovember 15 , 2023  \\n \\n Page 8 of 15 \\nIn FY25, the GPL core EBITDA margins will go up by approximately 2% due to the lower R&D \\nspend, primarily on account of the lower innovative R&D expenditure. Additionally, we are \\nexpecting further margin expansion in FY25 to c ome from RYALTRIS and operating leverage \\nkicking in across markets like Europe and Latin America. And we expect significant PAT margin \\ngrowth in FY25 mainly on account of the lower interest , depreciation and tax expenses once we \\nconsume it GLS transaction.  So, with that we can open the floor up for Q&A.  \\nI would just like to introduce the Management on the call today ; we have Mr. Glenn Saldan ha -\\n- Chairman and Managing Director , Glenmark Pharmaceuticals, Mr. V .S. Mani, Executive \\nDirector and Global CFO, Glen mark Pharmaceuticals.  \\nModerator:  Ladies and gentlemen, we will now begin with the question -and-answer session. The first \\nquestion is on the line of Tushar Man udhane from Motilal Oswal Financial Services. Please go \\nahead.  \\nTushar Manudhane:  So, the first is on the bookkeeping part . Rs.325 crore s is an exceptional loss . Even if I exclude \\n30 million from  that settlement payment, still the remaining amount is considerable. Is it largely \\nto do with remediation  measures?  \\nV.S. Mani:  So obviously, one is the remediation is only about Rs.26 crores in this quarter ; 20 crores in India \\nand about 6 crores in the US . Earlier also, we all had sort of guided that as we go along, these \\ncosts are coming down and they’ve  come down in this quarter . So, the balance is basically about \\nthe DOJ settlement of 30 -plus million and the allied legal cost that we provide with that which \\nwill be part of that. So that is the reason why it is about Rs.325 crores . \\nTushar Manudhane:  Derma is a therapy in India ha s witnessed good slowdown. So , any particular reasons to highlight \\nhere?  \\nV.S. Mani:  In the 2nd Quarter , right, we saw slowdown in two of our core therapies, right. There was a \\nslowdown in the acute business in the 2nd Quarter  which impacted our respiratory  sales and in \\nderm there has been a slight slowdown in the 2nd Quarter . However,  we are seeing a strong \\nrecovery in the 3rd Quarter ; so, in the month of October, we grew 19%, right as per IMS. So , \\nIndia business, we think from here on, right , will come back strongly. And I think respiratory \\nhas been a big dampener in the 2nd Quarter  which is coming back strongly in the 3rd Quarter . \\nSo, I think overall, we continue to believe that India will do well this year and going forward.  \\nTushar Manudhane:  Thirdly, the US sales have  been gradually slipping from 100 million now. So , when do we see \\nthis segment re viving? \\nV.S. Mani:  So, US, 2nd Quarter  was a tough quarter for us because we had some supply disruptions because \\nof some of the remediatio n work that is ongoing in the 2nd Quarter . However, in the 3rd Quarter , \\nwe've resolved all that and we are back with full supply in the 3rd Quarter . Additionally, I think \", metadata={'source': 'https://glenmark.b-cdn.net/gpl_pdfs/investors/reports_presentations/earning_concall/GlenmarkPharma-Earnings%20Call%20Transcript-15Nov-2023.pdf', 'page': 7}), Document(page_content=\" Glenmark Pharmaceuticals Limited  \\nNovember 15 , 2023  \\n \\n Page 9 of 15 \\nin the 3rd Quarter  we have almost four or five good launches. I think the V arenicline  partnership \\nthat we did with Mankind , the product we in-license, we've got some good market share there , \\nand I think we have almost 3 injectables getting launched in this quarter through some \\npartnerships. So , that coupled with some of our in -house launch es. So , I think from the 3rd  \\nQuarter  you should see US sales come back to the original levels, right? So , 2nd Quarter  we \\nthink was an aberration.  \\nTushar Manudhane:  This upfront payment of $5  million to Cassiopea , this would happen in this 3rd Quarter  or how \\nto think about  it? \\nGlenn Saldanha:  Yes, it will happen in the 3rd Quarter . \\nV.S. Mani:  But I think 3rd Quarter  against, we also have an income coming from Astria, right, almost $15 \\nmillion we've already received from Astria  in Ichnos , right? So , there i s some income also on \\nthe innovation side . \\nModerator:  The next question is from the line of Damayanti K erai from HSBC. Please go ahead.  \\nDamayanti Kerai:  I just need some more clarity on margins. So obviously , you mentioned '24 will be a transition \\nyear and  then for FY2 5 you mentioned 200 basis point s better margins on the core business part . \\nBut for the quarter, say if I look at the numbers , 14.4%, I'm excluding the FOREX part, so that \\nis anyway I think looking much lower than what we had seen previously. So, can you specify \\nwhether the slower performance in India and US contributed majorly towards it and maybe in \\n3rd Quarter  and fourth quarter as India and US comes back, we'll see better margins ? \\nV.S. Mani:  First and foremost, obviously, if you factor in t he currency loss, you will come to almost 15.7 %. \\nWhat we are saying is that this being a transition year , we've already guided in the past also , we \\nlook at about a 2% improvement  because of reduction in the R&D cost … in the initial \\ncommentary we gave that we are also looking at improvement in the margin expansion from \\nRYALTRIS as well as from across other geographies like Europe and LATAM. So, therefore \\nthis should significantly take our margins in terms of whatever been guiding in the past , would \\nbe closer  to 19 %, okay, that's what we are working towards . Even in the second half , I do agree \\nwith your point that as India and the US kicks in better , so obviously you should see it improve. \\nSo, I think this is the trajectory we're looking at.  \\nDamayanti Kerai:  So, you maintain that 19% margin trajectory f or your business ? \\nV.S. Mani:  As we 've already alluded, that is a transition here, but over the years, we're trying to improve \\nthat, ye s. \\nDamayanti Kerai:  My second question is in the US business . So, you mentioned some supply challenges which \\nyou have resolved now . But can you comment a bit on the pricing part also because I guess what \", metadata={'source': 'https://glenmark.b-cdn.net/gpl_pdfs/investors/reports_presentations/earning_concall/GlenmarkPharma-Earnings%20Call%20Transcript-15Nov-2023.pdf', 'page': 8}), Document(page_content=\" Glenmark Pharmaceuticals Limited  \\nNovember 15 , 2023  \\n \\n Page 10 of 15 \\nothers,  or your peers have commented that prices are more or less stable . So, how was it for your \\nportfolio and how d o you see it for next say for the coming  quarters ? \\nV.S. Mani:  So, the pricing environment seems to be stabilizing. However, we are still seeing standard price \\nerosion of roughly mid -single digit , around 5 %, 5% -odd across the portfolio.  \\nDamayanti Kerai:  Can you also share update on Monroe regulation part because if I remember correctly, you \\nmentioned somewhere in the second half  of the fiscal we should be seeing some notable update \\nthere ? \\nV.S. Mani:  So, in Monroe, we are pretty much done with most of the rem ediation. We are taking engineering \\nbatches this month and followed by validation batches and commercial batches. So , the \\nremediation is pretty much done. Obviously, we would have a dialogue with the FDA before \\nresuming commercial sales either by way of a meeting and we are also expecting an inspection \\nat some point.  \\nDamayanti Kerai:  Any timeline where do you expect like FDA can likely reinspect the facility?  \\nGlenn Saldanha : It's extremely hard to predict that, but we've started the work where we've started  taking batches , \\nfirst with engineering batches followed by validations and then commercial batches.  \\nDamayanti Kerai:  In terms of cost also, you mentioned 26  crores was the remediation cost , that was specifically \\nfor the US plant or  -? \\nV.S. Mani:  No, no, I ndia was about 20 crores and US was about 6 crores , US is much lower.  \\nGlenn Saldanha : I think remediation we are mostly done with everything at this point in terms of expenses and I \\ndon't think going forward we would have an exceptional item as a remediati on going forward.  \\nModerator:  The next question is from the line of Vikas Sarda from NT Asset Management. Please go ahead.  \\nVikas Sarda : Two questions. One is that the Ichnos  spend in the first half has been higher than full year run \\nrate guided of $60 milli on. So , how should one look at that in the second half ? And secondly, \\nthis 200-basis  point s margin expansion next year is only from R&D or you're building in the \\nRYALTRIS and the operating leverage  in that? \\nV.S. Mani:  So, good morning, Vikas. Thanks for th e question. So , as you can see in the current year in the \\nfirst half, we spent about 36 million, which last year was almost 43  million . So, in the 36 million \\nalso we have in the first half of the year normally we pay out bonuses and there are some \\nseverance costs as we are going about restructuring the operations out there. So , we still are \\npretty much guiding close to 60 plus is what we had said , will be there about. So , we're not \\nexpecting that to substantially go give and take a few million here or there. So , as far as Ichnos , \", metadata={'source': 'https://glenmark.b-cdn.net/gpl_pdfs/investors/reports_presentations/earning_concall/GlenmarkPharma-Earnings%20Call%20Transcript-15Nov-2023.pdf', 'page': 9}), Document(page_content=\" Glenmark Pharmaceuticals Limited  \\nNovember 15 , 2023  \\n \\n Page 11 of 15 \\nthat's where we are. And as you know, this year in the 3rd Quarter , we also received 15  million \\non licensing. So those are other incomes that will keep coming in. And as far as the margin \\nexpansion is coming, 2% is basically  from basically from Ichnos , that is innovation and the \\nbalance is when we say that we'll take a trajectory from where we are today, almost a 3% plus , \\n2% is here plus a 1% will come from all the margin expansion that we'll get from increasing our \\nbusinesse s, operating leverage in Europe, LATAM. So those are  the things. W hat we have not \\nspecifically even called out here, is that as Monroe goes live, today we have a 25  million \\noperating cost which is also baked into our numbers . As we go along even that will kick in next \\nyear. So , I think all in all that's how we are trying to run the run rate closer to where we are.  \\nVikas Sarda:  How much of the Zetia payment has already been made and how much is pending ? And also, in \\nthe balance sheet, there's one item called  other current asset  which has gone up in six months  by \\nalmost 400 crores. So , what is that for?  \\nV.S. Mani:  One is obviously we have paid more than 35 million plus for the Zetia and we also paid about \\none installment of the DOJ that came in. So , these are all that went in . As far as the other current \\nasset is concerned , receivable going up almost 190 crore s, that is largely on account of … as you \\nknow, when we make these payments outside India, we have to pay GST on that, which we can \\ntake credit against that , but as of now, that money is gone. So, that is one money that has gone . \\nAlso, the other thing is that we have in the other current assets PLI which we accrued about 80 \\nplus crores in the current year which we are yet to get money from the gov ernment. I think they \\nwill plan somewhere in the second half  to give us money. A lso, apart from that, we also had \\nsome increase in our prepaid expense of about 60 -70 crores, some advance payment to supplier. \\nSo that is why it looks like 400 crores  jump. Bu t I think as the second half  goes b y, at least the \\ninput tax, some of those credits we can take,  and it will come off. So , I think overall with the \\nimprovement in the business in the second half  also, we should see cash coming back in the \\nbusiness . \\nModerat or: The next question is from the line of Nitin Agarwal from DAM Capital. Please go ahead.  \\nNitin Agarwal : Can you help us understand the guidance for FY25 a little better in terms of what EBITDA l evels \\nwe are  looking at?  \\nV.S. Mani:  Currently, obviously this quarter we're a little less than 16 %, but we gave a glide path how we'll \\ngo there. We said 2% will come basically from innovation R&D spend reduction and 1% from \\nthe expansion in the various markets , also, obviously as Monroe goes live, we'll also get  some \\nbenefit. I have not put that in this . So overall, based on this, we are looking at a trajectory close \\nto 19%.  \\nNitin Agarwal:  19% for F Y25? \", metadata={'source': 'https://glenmark.b-cdn.net/gpl_pdfs/investors/reports_presentations/earning_concall/GlenmarkPharma-Earnings%20Call%20Transcript-15Nov-2023.pdf', 'page': 10}), Document(page_content=\" Glenmark Pharmaceuticals Limited  \\nNovember 15 , 2023  \\n \\n Page 12 of 15 \\nV.S. Mani:  Yes, 19 % for FY 25. This is a transition year , Nitin. I think we'll have to check it as the year \\ncome s. \\nNitin Agarwal:  Secondly, on the remediation costs, what kind of positive impact do we see on account of that \\nnext year?  \\nV.S. Mani:  You're talking of remediation costs further in the next year , is that what you're saying?  \\nNitin Agarwal:  Because you are  saying it's go ing to  be almost zero t his year from here on , so, how much will \\nbe spent for this year ? \\nV.S. Mani:  So, this year so far we have spent about 77 crores . So, that will not be there next year. But in any \\ncase, I'm calling it out separately . \\nNitin Agarwal:  That is a n additional lever which is probably there for us ? \\nV.S. Mani:  Yes, there are additional levers in terms of profit.  \\nNitin Agarwal:  Glenn, on the India business now , how are you looking at India from again a two, three -year \\nperspective here  on? \\nGlenn Saldanha:  Our view, Nitin is our India business continues to remain very strong, right. I think between the \\nRX business mainly driven by the respiratory, cardiac is doing exceedingly well for us , derm \\nand then diabetes, right. I mean, we are pre tty much leaders in three out of the four , right. We're \\namong the top two, three players in three out of the four  segments . So, India business RX \\ncontinues to be strong . OTC , we are doing exceedingly well. So that's another growth lever going \\nforward, whic h will contribute significantly to our India business. And then we have some \\nreasonable institution business , that's doing well in terms of hospitals and institutions. So that \\nwill come up as a new growth lever. So, I think all in all, India will do well f or us , I mean on a \\nsustained basis, we feel very comfortable with like a 12 to 15% growth coming out of India, \\nright , for the next three years.  \\nNitin Agarwal:  And likewise,  on the US, Q2 you mentioned is a soft year, things will bounce back from Q3, but \\nwith Monroe and all probably beginning to come back from next year , how should one think \\nabout US, there has been some improvement in the outlook which happened in general for other \\nplayers on the US  side? \\nGlenn Saldanha:  So, I think the US business  next year will be mainly driven by bringing back Monroe, some of \\nthe new launches that we have next year, right. And I think our respiratory play will start \\nhopefully from next year. We're hoping to get our first approval in the respiratory space and then  \\nwe'll keep getting approvals from there every year. So , I think a lot of our US build out is \\nprimarily driven by respiratory and some complex products that we are working  on. So, it's hard \", metadata={'source': 'https://glenmark.b-cdn.net/gpl_pdfs/investors/reports_presentations/earning_concall/GlenmarkPharma-Earnings%20Call%20Transcript-15Nov-2023.pdf', 'page': 11}), Document(page_content=\" Glenmark Pharmaceuticals Limited  \\nNovember 15 , 2023  \\n \\n Page 13 of 15 \\nto predict specifically in terms of numbers, but I mean , we have a  good portfolio of products that \\nwe are filing, right , and assuming they all get approved,  and things are on track, right, the US \\nbusiness should look strong right in the years to come.  \\nNitin Agarwal:  On that , Glenn, when are you looking to file the Fl uticasone  in India?  \\nGlenn Saldanha:  Fluticasone MDI, right , between Q4 and Q1, right, we will file the fluticasone MDI.  \\nNitin Agarwal:  There's been very strong growth in both R OW and Europe now. Is it largely RYALTRIS driven \\nor there are more things which are sort of driving it?  \\nGlenn Saldanha:  I think Europe is more broad -based beyond RYALTRIS. RYALTRIS is a big contributor, but \\nwe also have four or five respiratory products that we are selling there , are doing exceedingly \\nwell. And I think going forward we st ill believe that Europe will continue to outperform, right , \\nI mean 15 %, 20% is the minimum growth trajectory that we are seeing for our European  \\nbusiness . ROW also is doing extremely well. We got a big approval in in Brazil of Salmeterol \\nFluticasone  MDI,  it's the first generic approval. The rest of R OW, which is Asia, Latin America, \\nMiddle East, Africa, Russia , CE,  all these geographies are doing well. Russia also , we got \\nAscoril LS a big approval which will be a big  driver . In most of these geographies, they continue \\nto do exceedingly well. So , I think these two geographies will be significant growth drivers for \\nus in the years to come … and of course, India continues to do well. So , the US  is a big unknown . \\nWe are doing the right things in terms of portfo lio but  given the uncertainties we really struggle \\nto put any number for the US business.  \\nNitin Agarwal:  The scale up which you're talking about in Europe and R OW, what kind of margin operating \\nleverage to be see playing out in this business? And at some l evel, are these businesses below \\ncorporate level margins or have  they now passed it?  \\nGlenn Saldanha:  So, Europe obviously was below corporate level till last year, right. I think this year it has come \\nup closer to corporate level , and I think further margi n expansion is coming  out of Europe, right \\nas we go forward. R OW, most geographies were almost at corporate level , Latin America was \\nway down, right. I think that is adding almost 3% , 4% every year from here on in terms of their \\nEBITDA margin. So , that itself is giving you some significant leverage coming through , right , \\nas we go forward.  \\nModerator:  The next question is from  the line of Krishnendu Saha from Quantum AMC. Please go ahead.  \\nKrishnendu Saha:  Coupled with the margin question, just trying  to understand Glenmark Life Sciences revenue, \\nwhich is right now currently in the consol account will not be there f rom FY25 onwards. S o just \\ntrying to understand what kind of contribution they do at the current level on the –  \\nModerator:  Audio is not cle ar again.  \", metadata={'source': 'https://glenmark.b-cdn.net/gpl_pdfs/investors/reports_presentations/earning_concall/GlenmarkPharma-Earnings%20Call%20Transcript-15Nov-2023.pdf', 'page': 12}), Document(page_content=\" Glenmark Pharmaceuticals Limited  \\nNovember 15 , 2023  \\n \\n Page 14 of 15 \\nKrishnendu Saha:  Just wondering on the accounting part and on the margin part, Glenmark Life Sciences will not \\nbe in the numbers from FY25 onwards , how does the margin look  because they do contribute \\nsomething to the margins of the consol level.  \\nV.S. Mani:  As per accounting standard, this is how you see the margin today. And the earlier questions are \\nalso for the same. We have a continuing business,  and we have a discontinued business. So , on \\nthe continuing business taking FOREX loss, we have a cu rrent quarter EBITDA margin of about \\n15.7% which we have given a clear trajectory and a glide path how we'll go to 19%, 2% from \\ninnovation R&D and from  - \\nKrishnendu Saha:  But I'm just wondering if it is the consol when Glenmark L ife Science s is consolidate d and in \\nFY25 when they are not , does it not impact the EBITDA margins ? \\nV.S. Mani:  So, that impact is only we're absorbing, no. I can't hear you clearly, but I'm just gathering what \\nyou're saying, it's hard to hear you out . From what I understand , you are telling that GL S margin \\nwill not be there. I agree  that is what we are doing  by virtue of these measures by which we are \\nreducing our innovation R&D spend and we are looking at other markets which are doing better \\nand growing, who 's margins are ex pected to improve. So , both put together that is how we are \\nexpecting and also with some support from as we go along with Monroe , etc., we're very \\nconfident we'll come closer to 19%. \\nUtkarsh Gandhi:  I think over and above that , the key is to take notice of is the PAT margins because in next year, \\nyou will see a significant improvement in the PAT margin. So , not only are we getting to that \\n19% plus EBITDA margin, right, but we're also expecting a significant improvement in the PAT \\nmargin com pared to where we've been right along with GLS. So , that should drive the next year.  \\nKrishnendu Saha:  Just trying to understand , this is nothing to do with your guidance or whatever . Is there a 100% \\nconsolidation on the PAT margin for GLS on the consol lev el because we're not  selling 1 00% \\nso how does the cons ol do, do w e have 100% of the profit of GSL  in the consol ? \\nV.S. Mani:  The entire 100% of the EBITDA margin al l is removed of GLS , there is nothing of GLS left \\nback in the continuing business , it's completely out . In future, whatever we buy, we buy at arm's \\nlength . \\nKrishnendu Saha:  No, I'm talking about historically , FY' 22-23 numbers which are getting consolidated, do they \\nmatch total 100% of the profit of creation into the consol , is it like if they  earn 100, does it reflect \\n100 in the EBIT DA margin , is it like that on a historic basis?  \\nV.S. Mani:  The entire margin of GLS is removed from here. It's not there in the cont inuing business.  \\nModerator:  Ladies and gentlemen, that was the last question. I n ow ha nd the conference over to Mr. Ut karsh \\nGandhi for his closing comments.  \", metadata={'source': 'https://glenmark.b-cdn.net/gpl_pdfs/investors/reports_presentations/earning_concall/GlenmarkPharma-Earnings%20Call%20Transcript-15Nov-2023.pdf', 'page': 13}), Document(page_content=' Glenmark Pharmaceuticals Limited  \\nNovember 15 , 2023  \\n \\n Page 15 of 15 \\nUtkarsh Gandhi:  We quickly read the disclaimer before we end the call , the documents prepared and discussed \\nduring the call today including information statements and analysis desc ribing the Company  or \\nits affiliates, objectives, projections or estimates  are forward -looking statements. These are \\nbased on current expectations, forecast and assumptions, and are subject to risks and \\nuncertainties which could cause actual outcomes to di ffer materially from these statements \\ndepending upon economic conditions and other incidental factors. So , no representation of \\nwarranty is provided in relation to this document,  and it should not be regarded by recipients as \\na substitute for the exercise of their judgment . The Company  undertakes no obligation to update \\nor revise any forward -looking statements, whether as a result of new information, future events \\nor otherwise. With that, we can close the call. Thank you everyone for joining us today.  \\nModerator:  Thank you, members of the management team . Ladies and gentlemen, on behalf of Glenmark \\nPharmaceuticals Limited, that concludes this conference call. We thank you for joining us and \\nyou may now disconnect your lines.  ', metadata={'source': 'https://glenmark.b-cdn.net/gpl_pdfs/investors/reports_presentations/earning_concall/GlenmarkPharma-Earnings%20Call%20Transcript-15Nov-2023.pdf', 'page': 14})]\n"
          ]
        }
      ]
    },
    {
      "cell_type": "code",
      "source": [
        "# Split the documents into smaller chunks\n",
        "docs=[]\n",
        "text_splitter = RecursiveCharacterTextSplitter(chunk_size=1024, chunk_overlap=0)\n",
        "all_splits = text_splitter.split_documents(docs)\n",
        "# print(docs)\n",
        "embeddings = OpenAIEmbeddings()\n",
        "connection_args = { 'uri': URI, 'token': TOKEN }\n",
        "\n",
        "# vector_store = Zilliz(\n",
        "#     embedding_function=embeddings,\n",
        "#     connection_args=connection_args,\n",
        "#     collection_name=COLLECTION_NAME,\n",
        "#     drop_old=False,\n",
        "#     primary_field=\"pk\"\n",
        "# ).from_documents(\n",
        "#     all_splits,\n",
        "#     embedding=embeddings,\n",
        "#     collection_name=COLLECTION_NAME,\n",
        "#     connection_args=connection_args,\n",
        "# )\n",
        "\n",
        "vector_store = Zilliz(\n",
        "    embedding_function=embeddings,\n",
        "    connection_args=connection_args,\n",
        "    collection_name=COLLECTION_NAME,\n",
        "    drop_old=False,\n",
        "    primary_field=\"pk\")\n",
        "# ).from_documents(\n",
        "#     all_splits,\n",
        "#     embedding=embeddings,\n",
        "#     collection_name=COLLECTION_NAME,\n",
        "#     connection_args=connection_args,\n",
        "# )"
      ],
      "metadata": {
        "id": "r9gvMzu0Vxy-",
        "colab": {
          "base_uri": "https://localhost:8080/",
          "height": 17
        },
        "outputId": "0c73378f-a616-4232-dcc3-7a47562a374e"
      },
      "execution_count": null,
      "outputs": [
        {
          "output_type": "display_data",
          "data": {
            "text/plain": [
              "<IPython.core.display.HTML object>"
            ],
            "text/html": [
              "\n",
              "  <style>\n",
              "    pre {\n",
              "        white-space: pre-wrap;\n",
              "    }\n",
              "  </style>\n",
              "  "
            ]
          },
          "metadata": {}
        }
      ]
    },
    {
      "cell_type": "code",
      "source": [
        "query = \"orchid\"\n",
        "docs = vector_store.similarity_search(query)\n",
        "\n",
        "print(docs)"
      ],
      "metadata": {
        "colab": {
          "base_uri": "https://localhost:8080/",
          "height": 249
        },
        "id": "AbzbW0rdk9oL",
        "outputId": "d624e9eb-0c6c-40d9-ab37-89d0a152fcb3"
      },
      "execution_count": null,
      "outputs": [
        {
          "output_type": "display_data",
          "data": {
            "text/plain": [
              "<IPython.core.display.HTML object>"
            ],
            "text/html": [
              "\n",
              "  <style>\n",
              "    pre {\n",
              "        white-space: pre-wrap;\n",
              "    }\n",
              "  </style>\n",
              "  "
            ]
          },
          "metadata": {}
        },
        {
          "output_type": "stream",
          "name": "stdout",
          "text": [
            "[Document(page_content='(PLIscheme).', metadata={'source': 'https://avantifeeds.com/v2/wp-content/uploads/2023/11/Investors-call-Transcript-for-Q2-FY-2023-24.pdf', 'page': 3}), Document(page_content=\"shrimp culture season startsinendofJanuary orFebruary, butasitstands\\ntoday,thefieldreportisthatthefarmers areenthusiastic aboutthenextyear\\nandsoonaftertheharvest ofthecurrent crop,theywillstart,asearlyaspossible\\ntheywouldliketostartnextyear.Thatiswhattheindication wegive.Perhaps\\nafter31st,thatisnextquarter andwe'llbeabletogiveyouanideaaboutwhat\\nisthepicture thatisgoingtoemerge in2024-25,thatisfinancial year.\", metadata={'source': 'https://avantifeeds.com/v2/wp-content/uploads/2023/11/Investors-call-Transcript-for-Q2-FY-2023-24.pdf', 'page': 9}), Document(page_content='developed as an oral ly administered immunotherapeutic agent for patients with solid tumors. \\nGRC 54276 is a novel, orally active HPK1 inhibitor in preclinical studies and administered \\nalone. It has demonstrated substantial antitumor effects which are further enhanced when \\nadmi nistered in combination with currently available immunotherapy. GRC 54276 is being \\ndeveloped and is being evaluated in the first -in-human Phase I clinical study. Part 1a \\nmonotherapy phase of the study is ongoing in India since July 2022 and no dose limitin g \\ntoxicities have been observed during this period.', metadata={'source': 'https://glenmark.b-cdn.net/gpl_pdfs/investors/reports_presentations/earning_concall/GlenmarkPharma-Earnings%20Call%20Transcript-22May-2023.pdf', 'page': 5}), Document(page_content='Nikhilesh, canyoupleasetakeupthisquestion?\\nAlluriNikhilesh\\nHi,Nitin.AmIaudible?\\nC.Ramachandra Rao\\nYes.', metadata={'source': 'https://avantifeeds.com/v2/wp-content/uploads/2023/11/Investors-call-Transcript-for-Q2-FY-2023-24.pdf', 'page': 11})]\n"
          ]
        }
      ]
    },
    {
      "cell_type": "code",
      "source": [
        "llm = ChatOpenAI(model_name=\"gpt-4-1106-preview\", temperature=0)\n",
        "retriever = vector_store.as_retriever()\n",
        "\n",
        "# Use three sentences maximum and keep the answer as concise as possible.\n",
        "# Always say \"thanks for asking!\" at the end of the answer.\n",
        "\n",
        "template = \"\"\"Use the following pieces of context to answer the question at the end. Don't give short answers.\n",
        "Please give as detailed an answer as possible.\n",
        "If you don't know the answer, just say that you don't know, don't try to make up an answer.\n",
        "\n",
        "{context}\n",
        "Question: {question}\n",
        "Helpful Answer:\"\"\"\n",
        "rag_prompt = PromptTemplate.from_template(template)\n",
        "\n",
        "rag_chain = (\n",
        "    {\"context\": retriever, \"question\": RunnablePassthrough()}\n",
        "    | rag_prompt\n",
        "    | llm\n",
        ")\n",
        "\n",
        "response=rag_chain.invoke(\"what are the key focus areas for ashiana housing?\")\n"
      ],
      "metadata": {
        "colab": {
          "base_uri": "https://localhost:8080/",
          "height": 17
        },
        "id": "Q81jlKq7ezaW",
        "outputId": "9dee8e62-8498-40da-fd1b-fdda21426e4b"
      },
      "execution_count": null,
      "outputs": [
        {
          "output_type": "display_data",
          "data": {
            "text/plain": [
              "<IPython.core.display.HTML object>"
            ],
            "text/html": [
              "\n",
              "  <style>\n",
              "    pre {\n",
              "        white-space: pre-wrap;\n",
              "    }\n",
              "  </style>\n",
              "  "
            ]
          },
          "metadata": {}
        }
      ]
    },
    {
      "cell_type": "code",
      "source": [
        "# print(wrapper.fill(response.content))\n",
        "print(response.content)"
      ],
      "metadata": {
        "colab": {
          "base_uri": "https://localhost:8080/",
          "height": 428
        },
        "id": "WSQe2l_t__Ql",
        "outputId": "57a50128-7a3d-495a-9c93-d351e34ac84f"
      },
      "execution_count": null,
      "outputs": [
        {
          "output_type": "display_data",
          "data": {
            "text/plain": [
              "<IPython.core.display.HTML object>"
            ],
            "text/html": [
              "\n",
              "  <style>\n",
              "    pre {\n",
              "        white-space: pre-wrap;\n",
              "    }\n",
              "  </style>\n",
              "  "
            ]
          },
          "metadata": {}
        },
        {
          "output_type": "stream",
          "name": "stdout",
          "text": [
            "Based on the provided context, Ashiana Housing Limited's key focus areas can be identified as follows:\n",
            "\n",
            "1. Senior Living Development: Ashiana Housing is deploying more funds and resources toward senior living projects. This is a strategic direction for the company, as indicated by the discussion on page 16 of the document dated November 16, 2023. They are differentiating their offerings in this segment by providing larger projects with more amenities, focusing on active living, companionship, and activities. This suggests that catering to the needs of senior citizens is a significant aspect of their business model.\n",
            "\n",
            "2. Quality of Construction: The company is taking steps to improve the fundamental quality of construction. This includes reviewing systems to ensure implementation of checklists, experimenting with new shuttering systems, and enhancing overall governance mechanisms related to construction management. These efforts are aimed at improving discipline in systems and speeding up construction processes, as mentioned on page 6 of the document from November 16, 2023.\n",
            "\n",
            "3. Labor Practices and Welfare: Ashiana Housing is focusing on improving labor practices, including the welfare, safety, and upkeep of their workers. By taking steps to enhance these areas, the company aims to attract and retain workers more effectively, which is crucial for their construction activities.\n",
            "\n",
            "4. Project Launches and Acquisitions: The company has been active in acquiring new land parcels and launching new projects. For instance, they acquired a new land parcel in Jaisinghpura Road, Jaipur, and launched Ashiana Amodh in Talegaon, which is a senior living project. They also launched the second phase of Ashiana Prakriti in Jamshedpur and the last phase of Ashiana Shubham in Chennai, as detailed on page 1 of the document from November 16, 2023.\n",
            "\n",
            "5. Expansion and Growth: Ashiana Housing is focused on expanding its project portfolio. Varun Gupta mentioned the launch of an additional 1.5 million square feet in the second half of the financial year, including projects like Ashiana Amarah, Ashiana Advik, and phases of existing projects in Umang and Dwarka, as well as Ashiana Prakriti and Ekansh. This indicates a strategy of growth through new launches and the expansion of existing projects, as per the document from November 17, 2022.\n",
            "\n",
            "In summary, Ashiana Housing Limited's key focus areas include the development of senior living projects with differentiated offerings, improving construction quality and efficiency, enhancing labor practices and welfare, actively launching new projects and acquiring land parcels, and pursuing growth and expansion in their project portfolio.\n"
          ]
        }
      ]
    },
    {
      "cell_type": "code",
      "source": [
        "loader = WebBaseLoader([\n",
        "    'https://raw.githubusercontent.com/donnemartin/system-design-primer/master/README.md'\n",
        "\n",
        "])\n",
        "\n",
        "docs = loader.load()\n",
        "docs"
      ],
      "metadata": {
        "id": "ZAoLrnQH-nSC"
      },
      "execution_count": null,
      "outputs": []
    },
    {
      "cell_type": "code",
      "source": [
        "from bs4 import BeautifulSoup as Soup\n",
        "\n",
        "from langchain_community.document_loaders.recursive_url_loader import RecursiveUrlLoader\n",
        "\n",
        "\n",
        "url = \"https://raw.githubusercontent.com/donnemartin/system-design-primer/master/README.md\"\n",
        "loader = RecursiveUrlLoader(\n",
        "    url=url, max_depth=4, extractor=lambda x: Soup(x, \"html.parser\").text\n",
        ")\n",
        "docs = loader.load()\n"
      ],
      "metadata": {
        "id": "p4_T91LjCpqB"
      },
      "execution_count": null,
      "outputs": []
    },
    {
      "cell_type": "code",
      "source": [
        "docs[0].page_content"
      ],
      "metadata": {
        "id": "Djsv77-OGv7B"
      },
      "execution_count": null,
      "outputs": []
    },
    {
      "cell_type": "code",
      "source": [
        "llm = ChatOpenAI(model_name=\"gpt-4-1106-preview\", temperature=0)\n",
        "\n",
        "# Use three sentences maximum and keep the answer as concise as possible.\n",
        "# Always say \"thanks for asking!\" at the end of the answer.\n",
        "\n",
        "template = \"\"\"Don't give short answers.\n",
        "Please give as detailed an answer as possible.\n",
        "If you don't know the answer, just say that you don't know, don't try to make up an answer.\n",
        "\n",
        "Question: {question}\n",
        "Helpful Answer:\"\"\"\n",
        "rag_prompt = PromptTemplate.from_template(template)\n",
        "\n",
        "rag_chain = (\n",
        "    {\"question\": RunnablePassthrough()}\n",
        "    | rag_prompt\n",
        "    | llm\n",
        ")\n",
        "\n",
        "response=rag_chain.invoke(\"explain with code and maths and simple example how the softmax function works\")\n",
        "print(wrapper.fill(response.content))\n"
      ],
      "metadata": {
        "colab": {
          "base_uri": "https://localhost:8080/"
        },
        "id": "I7gHu0g3GNqn",
        "outputId": "2065bfcf-ddb4-4fd1-9101-162f31c0e0d1"
      },
      "execution_count": null,
      "outputs": [
        {
          "output_type": "stream",
          "name": "stdout",
          "text": [
            "    The softmax function, also known as the normalized exponential function, is a mathematical function that converts a vector of numbers into a\n",
            "    vector of probabilities, where the probabilities of each value are proportional to the exponential of the original values. It's widely used in\n",
            "    various fields, including machine learning, particularly in the context of multi-class classification problems.  The softmax function can be\n",
            "    formally defined as follows:  Given a vector \\( \\mathbf{z} = [z_1, z_2, ..., z_K] \\) of real numbers, the softmax function \\( \\sigma(\\mathbf{z})\n",
            "    \\) can be computed for each element \\( z_i \\) by using the formula:  \\[ \\sigma(\\mathbf{z})_i = \\frac{e^{z_i}}{\\sum_{j=1}^{K} e^{z_j}} \\]  for \\( i\n",
            "    = 1, ..., K \\), where \\( K \\) is the number of classes or elements in vector \\( \\mathbf{z} \\).  The numerator \\( e^{z_i} \\) is the exponential of\n",
            "    the \\( i \\)-th element of the input vector \\( \\mathbf{z} \\), and the denominator is the sum of the exponentials of all elements in \\( \\mathbf{z}\n",
            "    \\). This ensures that the sum of all the probabilities in the output vector is 1, making it a valid probability distribution.  Let's go through a\n",
            "    simple example with code in Python to illustrate how the softmax function works:  Suppose we have a vector of scores (also called logits in\n",
            "    machine learning) for three classes: \\( \\mathbf{z} = [2.0, 1.0, 0.1] \\). We want to convert these scores into probabilities.  First, we'll define\n",
            "    the softmax function in Python:  ```python import numpy as np  def softmax(z):     e_z = np.exp(z - np.max(z))  # Subtract max for numerical\n",
            "    stability     return e_z / e_z.sum()  # Our vector of scores (logits) z = np.array([2.0, 1.0, 0.1])  # Apply softmax to the vector probabilities =\n",
            "    softmax(z)  print(probabilities) ```  Running this code will output the probabilities for each class. Let's break down what happens inside the\n",
            "    softmax function:  1. We compute the exponential of each element in the input vector \\( \\mathbf{z} \\) to get \\( e^{z_i} \\) for each \\( i \\). 2. We\n",
            "    subtract the maximum value within \\( \\mathbf{z} \\) from each \\( z_i \\) before taking the exponential for numerical stability purposes. This is\n",
            "    because exponentiating large numbers can lead to numerical overflow. 3. We sum all the exponentiated values to get \\( \\sum_{j=1}^{K} e^{z_j} \\).\n",
            "    4. We divide each exponentiated value by this sum to get the probabilities.  Let's calculate the probabilities by hand using the given vector \\(\n",
            "    \\mathbf{z} \\):  1. Calculate the exponential of each element:    - \\( e^{2.0} \\approx 7.389 \\)    - \\( e^{1.0} \\approx 2.718 \\)    - \\( e^{0.1}\n",
            "    \\approx 1.105 \\)  2. Calculate the sum of these exponentials:    - \\( 7.389 + 2.718 + 1.105 \\approx 11.212 \\)  3. Divide each exponential by the\n",
            "    sum to get the probabilities:    - \\( P(z_1) = \\frac{7.389}{11.212} \\approx 0.659 \\)    - \\( P(z_2) = \\frac{2.718}{11.212} \\approx 0.242 \\)    -\n",
            "    \\( P(z_3) = \\frac{1.105}{11.212} \\approx 0.099 \\)  The resulting probabilities will sum up to 1, as expected:  \\[ 0.659 + 0.242 + 0.099 \\approx 1\n",
            "    \\]  These probabilities can now be interpreted as the model's confidence in each class, with higher probabilities indicating higher confidence. In\n",
            "    the context of machine learning, the softmax function is typically applied in the last layer of a neural network to provide a probabilistic output\n",
            "    for multi-class classification tasks.\n"
          ]
        }
      ]
    },
    {
      "cell_type": "code",
      "source": [],
      "metadata": {
        "id": "R68W7V1SGO1-"
      },
      "execution_count": null,
      "outputs": []
    }
  ]
}